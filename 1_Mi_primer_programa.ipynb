{
  "nbformat": 4,
  "nbformat_minor": 0,
  "metadata": {
    "colab": {
      "name": "1_Mi primer programa.ipynb",
      "provenance": [],
      "collapsed_sections": [],
      "authorship_tag": "ABX9TyPG+KNZDCgtMsaFzZ05pmYM",
      "include_colab_link": true
    },
    "kernelspec": {
      "name": "python3",
      "display_name": "Python 3"
    },
    "language_info": {
      "name": "python"
    }
  },
  "cells": [
    {
      "cell_type": "markdown",
      "metadata": {
        "id": "view-in-github",
        "colab_type": "text"
      },
      "source": [
        "<a href=\"https://colab.research.google.com/github/ildacec/Python_PythonDesdeCero-Challenge/blob/main/1_Mi_primer_programa.ipynb\" target=\"_parent\"><img src=\"https://colab.research.google.com/assets/colab-badge.svg\" alt=\"Open In Colab\"/></a>"
      ]
    },
    {
      "cell_type": "markdown",
      "source": [
        "# Python Desde Cero 🐍\n",
        "\n",
        "Pyladies Panamá 🌻\n",
        "\n",
        "2022\n",
        "\n",
        "\n",
        "---\n",
        "\n",
        "Day 1 - PythonDesdeCero Challenge\n",
        "\n",
        "---"
      ],
      "metadata": {
        "id": "kgVyVRNADXrB"
      }
    },
    {
      "cell_type": "markdown",
      "source": [
        "# Nuestros primeros pasos"
      ],
      "metadata": {
        "id": "TzU1CXvgDbpV"
      }
    },
    {
      "cell_type": "code",
      "source": [
        "!python --version"
      ],
      "metadata": {
        "id": "9_DsOSBCEMjJ",
        "colab": {
          "base_uri": "https://localhost:8080/"
        },
        "outputId": "579e9a3e-b236-4b65-f8b0-4896bc20104b"
      },
      "execution_count": 1,
      "outputs": [
        {
          "output_type": "stream",
          "name": "stdout",
          "text": [
            "Python 3.7.13\n"
          ]
        }
      ]
    },
    {
      "cell_type": "code",
      "source": [
        "print ('Hello World')"
      ],
      "metadata": {
        "id": "q9KqoOxpDisb",
        "colab": {
          "base_uri": "https://localhost:8080/"
        },
        "outputId": "54d2c001-ad85-4907-abd0-24aa31836bc3"
      },
      "execution_count": 2,
      "outputs": [
        {
          "output_type": "stream",
          "name": "stdout",
          "text": [
            "Hello World\n"
          ]
        }
      ]
    },
    {
      "cell_type": "code",
      "execution_count": 3,
      "metadata": {
        "id": "AKu4baTlDVwA"
      },
      "outputs": [],
      "source": [
        "#Example: Single Line Comment\n",
        "\n",
        "    # This is the first comment\n",
        "    # This is the second comment\n",
        "    # Python is eating the world"
      ]
    },
    {
      "cell_type": "code",
      "source": [
        "#Mi primer programa\n",
        "print ('Hello World')\n"
      ],
      "metadata": {
        "id": "E5AQiQBs6gZI",
        "colab": {
          "base_uri": "https://localhost:8080/"
        },
        "outputId": "cdd041ef-e714-486e-f53a-e88a387b301c"
      },
      "execution_count": 6,
      "outputs": [
        {
          "output_type": "stream",
          "name": "stdout",
          "text": [
            "Hello World\n"
          ]
        }
      ]
    },
    {
      "cell_type": "code",
      "source": [
        "'''\n",
        "Hola\n",
        "Comment en varías líneas \n",
        "aaaaa\n",
        "bbbbb\n",
        "ccccc\n",
        "ddddd\n",
        "\n",
        "'''\n",
        "\n",
        "print ('Hello World')"
      ],
      "metadata": {
        "id": "Z8kaG6ESEKJe",
        "colab": {
          "base_uri": "https://localhost:8080/"
        },
        "outputId": "71badf8d-e220-45bd-b702-09fa0a2dcd7a"
      },
      "execution_count": 7,
      "outputs": [
        {
          "output_type": "stream",
          "name": "stdout",
          "text": [
            "Hello World\n"
          ]
        }
      ]
    }
  ]
}