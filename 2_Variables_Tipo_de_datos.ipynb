{
  "cells": [
    {
      "cell_type": "markdown",
      "metadata": {
        "id": "view-in-github",
        "colab_type": "text"
      },
      "source": [
        "<a href=\"https://colab.research.google.com/github/ildacec/Python_PythonDesdeCero-Challenge/blob/main/2_Variables_Tipo_de_datos.ipynb\" target=\"_parent\"><img src=\"https://colab.research.google.com/assets/colab-badge.svg\" alt=\"Open In Colab\"/></a>"
      ]
    },
    {
      "cell_type": "markdown",
      "source": [
        "# Python Desde Cero 🐍\n",
        "\n",
        "Pyladies Panamá 🌻\n",
        "\n",
        "2022\n",
        "\n",
        "\n",
        "---\n",
        "\n",
        "Day 1 - PythonDesdeCero Challenge\n",
        "\n",
        "---"
      ],
      "metadata": {
        "id": "csZ9lcVgpB3i"
      }
    },
    {
      "cell_type": "markdown",
      "metadata": {
        "id": "mhsjWdFRrN52"
      },
      "source": [
        "# Asignación de Variables \n",
        "\n",
        "\n",
        "---\n",
        "|Operador\t|Ejemplo|\tEquivalente|\n",
        "|---|---|---|\n",
        "|=\t|x=7\t| x=7 |\n",
        "|+=\t|x+=2\t| x=x+2 = 9 |\n",
        "|-=\t|x-=2\t| x=x-2 = 7 |\n",
        "|*= |\tx*=2| x=x*2 = 14 |\n",
        "\n",
        "\n"
      ]
    },
    {
      "cell_type": "code",
      "execution_count": 11,
      "metadata": {
        "collapsed": true,
        "id": "p7sPFMgarN56"
      },
      "outputs": [],
      "source": [
        "a = 5"
      ]
    },
    {
      "cell_type": "code",
      "execution_count": 8,
      "metadata": {
        "colab": {
          "base_uri": "https://localhost:8080/"
        },
        "id": "Xys3i32srN57",
        "outputId": "878f91d4-ed57-474b-bc6d-72118ab8b6ae"
      },
      "outputs": [
        {
          "output_type": "stream",
          "name": "stdout",
          "text": [
            "5\n"
          ]
        }
      ],
      "source": [
        "print(a)"
      ]
    },
    {
      "cell_type": "code",
      "source": [
        "x=7\n",
        "\n",
        "x+=2\t#x=x+2 = 7\n",
        "print(x)\n",
        "\n",
        "x-=2\t#x=x-2 = 5\n",
        "print(x)\n",
        "\n",
        "x*=2\t#x=x*2 = 14\n",
        "print(x)"
      ],
      "metadata": {
        "colab": {
          "base_uri": "https://localhost:8080/"
        },
        "id": "W2yL2wqNx-cg",
        "outputId": "4a0fc5dc-8f8f-4ac0-dda8-897e6e671c85"
      },
      "execution_count": 10,
      "outputs": [
        {
          "output_type": "stream",
          "name": "stdout",
          "text": [
            "9\n",
            "7\n",
            "14\n"
          ]
        }
      ]
    },
    {
      "cell_type": "code",
      "execution_count": 12,
      "metadata": {
        "collapsed": true,
        "id": "NMyCseX3rN58"
      },
      "outputs": [],
      "source": [
        "A = 4"
      ]
    },
    {
      "cell_type": "code",
      "execution_count": 13,
      "metadata": {
        "colab": {
          "base_uri": "https://localhost:8080/"
        },
        "id": "Hpmpy4FDrN58",
        "outputId": "53870853-cbb1-4ad4-b702-978cd1fbbad2"
      },
      "outputs": [
        {
          "output_type": "stream",
          "name": "stdout",
          "text": [
            "5\n",
            "4\n"
          ]
        }
      ],
      "source": [
        "print(a)\n",
        "print(A)"
      ]
    },
    {
      "cell_type": "code",
      "source": [
        "a=7; b=2\n",
        "print(\"Operadores de asignación\")\n",
        "x=a; x+=b;  print(\"x+=\", x)  # 9\n",
        "x=a; x-=b;  print(\"x-=\", x)  # 5\n",
        "x=a; x*=b;  print(\"x*=\", x)  # 14"
      ],
      "metadata": {
        "colab": {
          "base_uri": "https://localhost:8080/"
        },
        "id": "7ZrPnYi9rV4K",
        "outputId": "ea1a1f6f-1b3f-4f36-b448-169bcf23d881"
      },
      "execution_count": 14,
      "outputs": [
        {
          "output_type": "stream",
          "name": "stdout",
          "text": [
            "Operadores de asignación\n",
            "x+= 9\n",
            "x-= 5\n",
            "x*= 14\n"
          ]
        }
      ]
    },
    {
      "cell_type": "markdown",
      "metadata": {
        "id": "X32jUXEtrN59"
      },
      "source": [
        "# ¿Cómo trabajan las variables in Python?\n"
      ]
    },
    {
      "cell_type": "code",
      "execution_count": 16,
      "metadata": {
        "collapsed": true,
        "id": "zVzoOXZtrN59"
      },
      "outputs": [],
      "source": [
        "a = 7\n",
        "b = a\n",
        "a = 3"
      ]
    },
    {
      "cell_type": "code",
      "execution_count": null,
      "metadata": {
        "colab": {
          "base_uri": "https://localhost:8080/"
        },
        "id": "0qDGJLwprN59",
        "outputId": "3f971bbe-690f-413c-ec27-c4cf97e3ffb0"
      },
      "outputs": [
        {
          "output_type": "stream",
          "name": "stdout",
          "text": [
            "3\n"
          ]
        }
      ],
      "source": [
        "print(a)"
      ]
    },
    {
      "cell_type": "code",
      "execution_count": 17,
      "metadata": {
        "colab": {
          "base_uri": "https://localhost:8080/"
        },
        "id": "GODKNtT3rN5-",
        "outputId": "60dd9166-233c-4ca5-8664-3ed036c68aaa"
      },
      "outputs": [
        {
          "output_type": "stream",
          "name": "stdout",
          "text": [
            "7\n"
          ]
        }
      ],
      "source": [
        "print(b)"
      ]
    },
    {
      "cell_type": "markdown",
      "metadata": {
        "id": "mHQLV_hKrN5-"
      },
      "source": [
        "# Reglas de nombres de Variables "
      ]
    },
    {
      "cell_type": "code",
      "execution_count": 18,
      "metadata": {
        "collapsed": true,
        "id": "8f1XGJ1zrN5_"
      },
      "outputs": [],
      "source": [
        "a = 5"
      ]
    },
    {
      "cell_type": "code",
      "execution_count": 19,
      "metadata": {
        "collapsed": true,
        "id": "RLypZY2RrN5_"
      },
      "outputs": [],
      "source": [
        "_a=5"
      ]
    },
    {
      "cell_type": "code",
      "execution_count": 20,
      "metadata": {
        "id": "wnO6Tb16rN6A",
        "colab": {
          "base_uri": "https://localhost:8080/",
          "height": 131
        },
        "outputId": "db9e9185-0e10-4814-aef7-5950ad49c949"
      },
      "outputs": [
        {
          "output_type": "error",
          "ename": "SyntaxError",
          "evalue": "ignored",
          "traceback": [
            "\u001b[0;36m  File \u001b[0;32m\"<ipython-input-20-621d036c2088>\"\u001b[0;36m, line \u001b[0;32m1\u001b[0m\n\u001b[0;31m    @a=5\u001b[0m\n\u001b[0m      ^\u001b[0m\n\u001b[0;31mSyntaxError\u001b[0m\u001b[0;31m:\u001b[0m invalid syntax\n"
          ]
        }
      ],
      "source": [
        "@a=5"
      ]
    },
    {
      "cell_type": "code",
      "execution_count": 21,
      "metadata": {
        "id": "HeMWMIhNrN6A",
        "colab": {
          "base_uri": "https://localhost:8080/",
          "height": 131
        },
        "outputId": "52d7e99d-c0b5-40c6-c0cf-bfaac4ab4256"
      },
      "outputs": [
        {
          "output_type": "error",
          "ename": "SyntaxError",
          "evalue": "ignored",
          "traceback": [
            "\u001b[0;36m  File \u001b[0;32m\"<ipython-input-21-12a452f40b4c>\"\u001b[0;36m, line \u001b[0;32m1\u001b[0m\n\u001b[0;31m    1a=5\u001b[0m\n\u001b[0m     ^\u001b[0m\n\u001b[0;31mSyntaxError\u001b[0m\u001b[0;31m:\u001b[0m invalid syntax\n"
          ]
        }
      ],
      "source": [
        "1a=5"
      ]
    },
    {
      "cell_type": "markdown",
      "metadata": {
        "id": "UdOjkiBJrN6A"
      },
      "source": [
        "# Tipo de Datos"
      ]
    },
    {
      "cell_type": "code",
      "execution_count": 22,
      "metadata": {
        "collapsed": true,
        "id": "RYHxw63MrN6B"
      },
      "outputs": [],
      "source": [
        "a = 5"
      ]
    },
    {
      "cell_type": "code",
      "execution_count": 23,
      "metadata": {
        "id": "Eh7ndMYLrN6B",
        "colab": {
          "base_uri": "https://localhost:8080/"
        },
        "outputId": "02249eae-0529-4231-a773-efc4958b6a96"
      },
      "outputs": [
        {
          "output_type": "execute_result",
          "data": {
            "text/plain": [
              "int"
            ]
          },
          "metadata": {},
          "execution_count": 23
        }
      ],
      "source": [
        "type(a)"
      ]
    },
    {
      "cell_type": "code",
      "execution_count": 24,
      "metadata": {
        "collapsed": true,
        "id": "9wkSDVfcrN6B"
      },
      "outputs": [],
      "source": [
        "b = \"Hola\""
      ]
    },
    {
      "cell_type": "code",
      "execution_count": 25,
      "metadata": {
        "id": "c155FPo1rN6B",
        "colab": {
          "base_uri": "https://localhost:8080/"
        },
        "outputId": "ee099462-2e2c-4022-c8ca-c294342b21fd"
      },
      "outputs": [
        {
          "output_type": "execute_result",
          "data": {
            "text/plain": [
              "str"
            ]
          },
          "metadata": {},
          "execution_count": 25
        }
      ],
      "source": [
        "type(b)"
      ]
    },
    {
      "cell_type": "code",
      "execution_count": 26,
      "metadata": {
        "collapsed": true,
        "id": "AdM7fHC6rN6C",
        "colab": {
          "base_uri": "https://localhost:8080/"
        },
        "outputId": "9afd0c6a-e875-43d7-e256-fa00d63d1c99"
      },
      "outputs": [
        {
          "output_type": "stream",
          "name": "stdout",
          "text": [
            "<class 'int'>\n",
            "<class 'float'>\n",
            "<class 'complex'>\n",
            "<class 'str'>\n",
            "<class 'list'>\n",
            "<class 'dict'>\n",
            "<class 'set'>\n",
            "<class 'tuple'>\n"
          ]
        }
      ],
      "source": [
        "# Checking data types\n",
        "\n",
        "print(type(10))                  # Int\n",
        "print(type(3.14))                # Float\n",
        "print(type(1 + 3j))              # Complex\n",
        "print(type('Asabeneh'))          # String\n",
        "print(type([1, 2, 3]))           # List\n",
        "print(type({'name':'Asabeneh'})) # Dictionary\n",
        "print(type({9.8, 3.14, 2.7}))    # Set\n",
        "print(type((9.8, 3.14, 2.7)))    # Tuple"
      ]
    },
    {
      "cell_type": "code",
      "source": [
        "print(type((True, 3.14, 2.7)))    # Tuple"
      ],
      "metadata": {
        "colab": {
          "base_uri": "https://localhost:8080/"
        },
        "id": "uUoUnZG20KFS",
        "outputId": "ee652f59-8d29-4f70-ea18-de128ecd52e2"
      },
      "execution_count": 27,
      "outputs": [
        {
          "output_type": "stream",
          "name": "stdout",
          "text": [
            "<class 'tuple'>\n"
          ]
        }
      ]
    }
  ],
  "metadata": {
    "kernelspec": {
      "display_name": "Python 3",
      "language": "python",
      "name": "python3"
    },
    "language_info": {
      "codemirror_mode": {
        "name": "ipython",
        "version": 3
      },
      "file_extension": ".py",
      "mimetype": "text/x-python",
      "name": "python",
      "nbconvert_exporter": "python",
      "pygments_lexer": "ipython3",
      "version": "3.6.3"
    },
    "colab": {
      "name": "2_Variables Tipo de datos.ipynb",
      "provenance": [],
      "include_colab_link": true
    }
  },
  "nbformat": 4,
  "nbformat_minor": 0
}