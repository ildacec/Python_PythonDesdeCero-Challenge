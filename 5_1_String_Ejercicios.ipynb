{
  "nbformat": 4,
  "nbformat_minor": 0,
  "metadata": {
    "colab": {
      "provenance": [],
      "authorship_tag": "ABX9TyPUFX2myiaw3anOEPoFAQL2",
      "include_colab_link": true
    },
    "kernelspec": {
      "name": "python3",
      "display_name": "Python 3"
    },
    "language_info": {
      "name": "python"
    }
  },
  "cells": [
    {
      "cell_type": "markdown",
      "metadata": {
        "id": "view-in-github",
        "colab_type": "text"
      },
      "source": [
        "<a href=\"https://colab.research.google.com/github/ildacec/Python_PythonDesdeCero-Challenge/blob/main/5_1_String_Ejercicios.ipynb\" target=\"_parent\"><img src=\"https://colab.research.google.com/assets/colab-badge.svg\" alt=\"Open In Colab\"/></a>"
      ]
    },
    {
      "cell_type": "markdown",
      "source": [
        "# Python Desde Cero 🐍\n",
        "\n",
        "Pyladies Panamá 🌻\n",
        "\n",
        "2022\n",
        "\n",
        "\n",
        "---\n",
        "\n",
        "Day 3 - PythonDesdeCero Challenge\n",
        "* Sábado 03/Septiembre/2022\n",
        "\n",
        "\n",
        "---\n",
        "Autor: Asabeneh \n",
        "\n",
        "Referencia: https://github.com/Asabeneh/30-Days-Of-Python/blob/master/04_Day_Strings/04_strings.md\n"
      ],
      "metadata": {
        "id": "5k4E3v5YNrIe"
      }
    },
    {
      "cell_type": "markdown",
      "source": [
        "# Ejercicio #1\n",
        "Concatene la cadena: 'Thirty', 'Days', 'Of', 'Python' en una sola cadena.\n",
        "\n",
        "Resultado esperado: 'Thirty Days Of Python'.\n"
      ],
      "metadata": {
        "id": "G8fz24IWN7mc"
      }
    },
    {
      "cell_type": "code",
      "source": [
        "cadena = ['Thirty', 'Days', 'Of', 'Python' ]\n",
        "\n",
        "print (' '.join(cadena))"
      ],
      "metadata": {
        "id": "PFempzqFNq4a",
        "colab": {
          "base_uri": "https://localhost:8080/"
        },
        "outputId": "aad6a28c-0d89-405f-dd65-16876953659a"
      },
      "execution_count": 2,
      "outputs": [
        {
          "output_type": "stream",
          "name": "stdout",
          "text": [
            "Thirty Days Of Python\n"
          ]
        }
      ]
    },
    {
      "cell_type": "markdown",
      "source": [
        "\n",
        "# Ejercicio #2\n",
        "Concatena la siguientes cadenas 'Coding', 'For' , 'All' a una sola cadena.\n",
        "\n",
        "Resultado esperado: 'Coding For All'.\n"
      ],
      "metadata": {
        "id": "r0gmfhSHOPrr"
      }
    },
    {
      "cell_type": "code",
      "execution_count": 3,
      "metadata": {
        "id": "6WmrZ2fWNkcV",
        "colab": {
          "base_uri": "https://localhost:8080/"
        },
        "outputId": "dd3479cd-36e1-42ba-8707-81d83aeccd14"
      },
      "outputs": [
        {
          "output_type": "stream",
          "name": "stdout",
          "text": [
            "Coding For All\n"
          ]
        }
      ],
      "source": [
        "cadena2 = [ 'Coding', 'For' , 'All']\n",
        "\n",
        "print (' '.join(cadena2))"
      ]
    },
    {
      "cell_type": "markdown",
      "source": [
        "\n",
        "# Ejercicio #3\n",
        "Declare una variable llamada company y asígnele como valor inicial:  \"Coding For All\".\n"
      ],
      "metadata": {
        "id": "jrSjQbLTOSN8"
      }
    },
    {
      "cell_type": "code",
      "source": [
        "company = \"Coding For All\"\n"
      ],
      "metadata": {
        "id": "SDM0prnNOVKF"
      },
      "execution_count": 4,
      "outputs": []
    },
    {
      "cell_type": "markdown",
      "source": [
        "\n",
        "# Ejercicio #4\n",
        "Imprima la variable company con la función print().\n"
      ],
      "metadata": {
        "id": "VYFUE6Z3OVio"
      }
    },
    {
      "cell_type": "code",
      "source": [
        "print (company)"
      ],
      "metadata": {
        "id": "Xi3CkFRpOXfF",
        "colab": {
          "base_uri": "https://localhost:8080/"
        },
        "outputId": "167dc054-fa57-45c6-fe13-c05856a08122"
      },
      "execution_count": 5,
      "outputs": [
        {
          "output_type": "stream",
          "name": "stdout",
          "text": [
            "Coding For All\n"
          ]
        }
      ]
    },
    {
      "cell_type": "markdown",
      "source": [
        "# Ejercicio #5\n",
        "Imprima el tamaño de la variable company usando los métodos / funciones len() y print().\n"
      ],
      "metadata": {
        "id": "zHn62dwGOX1D"
      }
    },
    {
      "cell_type": "code",
      "source": [
        "print (len(company))"
      ],
      "metadata": {
        "id": "wU-iAFVZObCm",
        "colab": {
          "base_uri": "https://localhost:8080/"
        },
        "outputId": "4941aa16-a315-4590-a3dd-f3fbd875da37"
      },
      "execution_count": 6,
      "outputs": [
        {
          "output_type": "stream",
          "name": "stdout",
          "text": [
            "14\n"
          ]
        }
      ]
    },
    {
      "cell_type": "markdown",
      "source": [
        "# Ejercicio #6\n",
        "Cambie todos los caracteres a letras mayúsculas usando la función upper()\n"
      ],
      "metadata": {
        "id": "trHPqUhaOamy"
      }
    },
    {
      "cell_type": "code",
      "source": [
        "print(company.upper())"
      ],
      "metadata": {
        "id": "tR7OtTpxOeJW",
        "colab": {
          "base_uri": "https://localhost:8080/"
        },
        "outputId": "86b45f93-8af4-4319-f959-eb3713f09d7c"
      },
      "execution_count": 8,
      "outputs": [
        {
          "output_type": "stream",
          "name": "stdout",
          "text": [
            "CODING FOR ALL\n"
          ]
        }
      ]
    },
    {
      "cell_type": "markdown",
      "source": [
        "\n",
        "# Ejercicio #7\n",
        "Cambie todos los carateres a letras minúsculas usando la función lower()"
      ],
      "metadata": {
        "id": "3cAvlreEOenO"
      }
    },
    {
      "cell_type": "code",
      "source": [
        "print(company.lower())"
      ],
      "metadata": {
        "id": "A7djNEaIOgxX",
        "colab": {
          "base_uri": "https://localhost:8080/"
        },
        "outputId": "3e0b96e4-d60d-467d-83b0-51e95b2d8bd6"
      },
      "execution_count": 9,
      "outputs": [
        {
          "output_type": "stream",
          "name": "stdout",
          "text": [
            "coding for all\n"
          ]
        }
      ]
    },
    {
      "cell_type": "markdown",
      "source": [
        "\n",
        "# Ejercicio #8\n",
        "Use las funciones: capitalize(), title(), swapcase(), para la cadena: \"Coding For All\". \n"
      ],
      "metadata": {
        "id": "QdvgLuXFOg8G"
      }
    },
    {
      "cell_type": "code",
      "source": [
        "print(\"Coding For A\".capitalize())\n",
        "print(\"Coding For A\".title())\n",
        "print(\"Coding For A\".swapcase())\n"
      ],
      "metadata": {
        "id": "qxVPmSE1OiZJ",
        "colab": {
          "base_uri": "https://localhost:8080/"
        },
        "outputId": "0ce028e7-9238-430f-91dc-7d1f1e1e4f5a"
      },
      "execution_count": 12,
      "outputs": [
        {
          "output_type": "stream",
          "name": "stdout",
          "text": [
            "Coding for a\n",
            "Coding For A\n",
            "cODING fOR a\n"
          ]
        }
      ]
    },
    {
      "cell_type": "markdown",
      "source": [
        "\n",
        "# Ejercicio #9\n",
        "Reemplace la palabra \"Coding\" en la cadena 'Coding For All' a Python.\n"
      ],
      "metadata": {
        "id": "F3ZJqTILOiot"
      }
    },
    {
      "cell_type": "code",
      "source": [
        "print( 'Coding For All'.replace(\"Coding\",\"Python\"))"
      ],
      "metadata": {
        "id": "sIdc27O0Okcz",
        "colab": {
          "base_uri": "https://localhost:8080/"
        },
        "outputId": "c3306c0a-e2b0-4665-987e-fa64db92b2a7"
      },
      "execution_count": 13,
      "outputs": [
        {
          "output_type": "stream",
          "name": "stdout",
          "text": [
            "Python For All\n"
          ]
        }
      ]
    },
    {
      "cell_type": "markdown",
      "source": [
        "\n",
        "# Ejercicio #10\n",
        "\n",
        "Valida si la cadena \"Coding For All\" contiene una palabra Coding usando el método index o otros métodos."
      ],
      "metadata": {
        "id": "bTlQGxRROkvD"
      }
    },
    {
      "cell_type": "code",
      "source": [
        "cadena = \"Coding For All\"\n",
        "indx = \"Coding\"\n",
        "\n",
        "print(cadena.index(indx))"
      ],
      "metadata": {
        "id": "ceabOGnTQnlQ",
        "colab": {
          "base_uri": "https://localhost:8080/"
        },
        "outputId": "bddd9665-d584-4cef-9f15-c68dc9cd573b"
      },
      "execution_count": 16,
      "outputs": [
        {
          "output_type": "stream",
          "name": "stdout",
          "text": [
            "0\n"
          ]
        }
      ]
    },
    {
      "cell_type": "code",
      "source": [],
      "metadata": {
        "id": "J2GkOluTAlV0"
      },
      "execution_count": null,
      "outputs": []
    }
  ]
}