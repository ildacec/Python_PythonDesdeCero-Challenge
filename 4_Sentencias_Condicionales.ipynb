{
  "cells": [
    {
      "cell_type": "markdown",
      "metadata": {
        "id": "view-in-github",
        "colab_type": "text"
      },
      "source": [
        "<a href=\"https://colab.research.google.com/github/ildacec/Python_PythonDesdeCero-Challenge/blob/main/4_Sentencias_Condicionales.ipynb\" target=\"_parent\"><img src=\"https://colab.research.google.com/assets/colab-badge.svg\" alt=\"Open In Colab\"/></a>"
      ]
    },
    {
      "cell_type": "markdown",
      "source": [
        "# Python Desde Cero 🐍\n",
        "\n",
        "Pyladies Panamá 🌻\n",
        "\n",
        "2022\n",
        "\n",
        "\n",
        "---\n",
        "\n",
        "Day 1 - PythonDesdeCero Challenge\n",
        "\n",
        "---"
      ],
      "metadata": {
        "id": "T3xmFDELs2iZ"
      }
    },
    {
      "cell_type": "markdown",
      "source": [
        "# Sentencias Condicionales\n",
        "\n",
        "|Condicional | Descripción |\n",
        "| --- | --- |\n",
        "| Uso del if |  |\n",
        "| Uso del else y elif |  |\n",
        "\n"
      ],
      "metadata": {
        "id": "f4Wubu9Atkym"
      }
    },
    {
      "cell_type": "code",
      "source": [
        "#Uso del if\n",
        "a = 4\n",
        "b = 2\n",
        "if b != 0:\n",
        "    print(a/b)"
      ],
      "metadata": {
        "id": "hH6tBQxFtmJu",
        "colab": {
          "base_uri": "https://localhost:8080/"
        },
        "outputId": "6564a99b-abd6-4104-d32f-9a9b4a50fb4c"
      },
      "execution_count": 1,
      "outputs": [
        {
          "output_type": "stream",
          "name": "stdout",
          "text": [
            "2.0\n"
          ]
        }
      ]
    },
    {
      "cell_type": "code",
      "source": [
        "#Identado\n",
        "if b != 0:\n",
        "    c = a/b\n",
        "    d = c + 1\n",
        "    print(d)"
      ],
      "metadata": {
        "id": "atqRXe-St5Vi",
        "colab": {
          "base_uri": "https://localhost:8080/"
        },
        "outputId": "e0b35910-e42d-4018-fba1-870788915ebc"
      },
      "execution_count": 2,
      "outputs": [
        {
          "output_type": "stream",
          "name": "stdout",
          "text": [
            "3.0\n"
          ]
        }
      ]
    },
    {
      "cell_type": "code",
      "source": [
        "#Validación del identado\n",
        "if b != 0:\n",
        "    c = a/b\n",
        "    print(\"Dentro if\")\n",
        "print(\"Fuera if\")"
      ],
      "metadata": {
        "id": "xTQCgrHnuC7u",
        "colab": {
          "base_uri": "https://localhost:8080/"
        },
        "outputId": "f9f552fe-cb30-4db7-fc50-ee84cec40ee5"
      },
      "execution_count": 3,
      "outputs": [
        {
          "output_type": "stream",
          "name": "stdout",
          "text": [
            "Dentro if\n",
            "Fuera if\n"
          ]
        }
      ]
    },
    {
      "cell_type": "code",
      "source": [
        "a = 10\n",
        "if a > 5 and a < 15:\n",
        "    print(\"Mayor que 5 y menos que 15\")"
      ],
      "metadata": {
        "id": "-lR-sehfuOiu",
        "colab": {
          "base_uri": "https://localhost:8080/"
        },
        "outputId": "024ecc27-9acb-4b78-f711-47d203c297af"
      },
      "execution_count": 4,
      "outputs": [
        {
          "output_type": "stream",
          "name": "stdout",
          "text": [
            "Mayor que 5 y menos que 15\n"
          ]
        }
      ]
    },
    {
      "cell_type": "markdown",
      "metadata": {
        "id": "Gjr2QCDPrbza"
      },
      "source": [
        "# Problema 1 : Imprimir \"Par\" si el número es divisible por 2, o imprimir \"Impar\" si no lo es"
      ]
    },
    {
      "cell_type": "code",
      "execution_count": 6,
      "metadata": {
        "id": "Xyg2S-K8rbzc",
        "colab": {
          "base_uri": "https://localhost:8080/"
        },
        "outputId": "333ece67-44c1-4a8a-ce3c-f73184ad1522"
      },
      "outputs": [
        {
          "output_type": "stream",
          "name": "stdout",
          "text": [
            "Impart\n"
          ]
        }
      ],
      "source": [
        "x = 5\n",
        "\n",
        "if(x % 2 == 0):\n",
        "    print(\"Par\")\n",
        "else:\n",
        "    print(\"Impart\")"
      ]
    },
    {
      "cell_type": "markdown",
      "source": [
        "# Uso de else "
      ],
      "metadata": {
        "id": "eRjn986PuYYY"
      }
    },
    {
      "cell_type": "code",
      "source": [
        "# if / else\n",
        "x = 5\n",
        "if x == 5:\n",
        "    print(\"Es 5\")\n",
        "else:\n",
        "    print(\"No es 5\")"
      ],
      "metadata": {
        "id": "0Ah5rktiuX6S",
        "colab": {
          "base_uri": "https://localhost:8080/"
        },
        "outputId": "c34261ea-1cdc-44e5-bd5c-91be960c43a2"
      },
      "execution_count": 7,
      "outputs": [
        {
          "output_type": "stream",
          "name": "stdout",
          "text": [
            "Es 5\n"
          ]
        }
      ]
    },
    {
      "cell_type": "code",
      "source": [
        "# Uso de elif\n",
        "x = 10\n",
        "if x == 5:\n",
        "    print(\"Es 5\")\n",
        "elif x == 6:\n",
        "    print(\"Es 6\")\n",
        "elif x == 7:\n",
        "    print(\"Es 7\")"
      ],
      "metadata": {
        "id": "ORJ1RiBQvKZK"
      },
      "execution_count": 10,
      "outputs": []
    },
    {
      "cell_type": "markdown",
      "metadata": {
        "id": "w9O1eBmOrbzd"
      },
      "source": [
        "# Problema 2: Tome una variable y e imprima \"Grado A\" si y es mayor que 90, \"Grado B\" si y es mayor que 60 pero menor o igual a 90 y \"Grado F\" en caso contrario."
      ]
    },
    {
      "cell_type": "code",
      "execution_count": 11,
      "metadata": {
        "id": "cWNBFoI2rbzd",
        "colab": {
          "base_uri": "https://localhost:8080/"
        },
        "outputId": "d477f354-02a2-41d8-81bc-2c84268815c0"
      },
      "outputs": [
        {
          "output_type": "stream",
          "name": "stdout",
          "text": [
            "Grade B\n"
          ]
        }
      ],
      "source": [
        "y=90\n",
        "\n",
        "if(y>90):\n",
        "    print(\"Grade A\")\n",
        "elif(y>60):\n",
        "    print(\"Grade B\")\n",
        "else:\n",
        "    print(\"Grade F\")"
      ]
    },
    {
      "cell_type": "code",
      "execution_count": null,
      "metadata": {
        "collapsed": true,
        "id": "BIJI3l3Mrbze"
      },
      "outputs": [],
      "source": [
        ""
      ]
    }
  ],
  "metadata": {
    "kernelspec": {
      "display_name": "Python [default]",
      "language": "python",
      "name": "python3"
    },
    "language_info": {
      "codemirror_mode": {
        "name": "ipython",
        "version": 3
      },
      "file_extension": ".py",
      "mimetype": "text/x-python",
      "name": "python",
      "nbconvert_exporter": "python",
      "pygments_lexer": "ipython3",
      "version": "3.5.4"
    },
    "colab": {
      "name": "4_Sentencias Condicionales.ipynb",
      "provenance": [],
      "include_colab_link": true
    }
  },
  "nbformat": 4,
  "nbformat_minor": 0
}