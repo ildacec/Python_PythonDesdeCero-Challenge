{
  "nbformat": 4,
  "nbformat_minor": 0,
  "metadata": {
    "colab": {
      "provenance": [],
      "authorship_tag": "ABX9TyN7DfFgCQppPRRui5dk9B2v",
      "include_colab_link": true
    },
    "kernelspec": {
      "name": "python3",
      "display_name": "Python 3"
    },
    "language_info": {
      "name": "python"
    }
  },
  "cells": [
    {
      "cell_type": "markdown",
      "metadata": {
        "id": "view-in-github",
        "colab_type": "text"
      },
      "source": [
        "<a href=\"https://colab.research.google.com/github/ildacec/Python_PythonDesdeCero-Challenge/blob/main/12_Datetime.ipynb\" target=\"_parent\"><img src=\"https://colab.research.google.com/assets/colab-badge.svg\" alt=\"Open In Colab\"/></a>"
      ]
    },
    {
      "cell_type": "markdown",
      "source": [
        "# Python Desde Cero 🐍\n",
        "\n",
        "# Pyladies Panamá 🌻\n",
        "\n",
        "2022\n",
        "\n",
        "Day 10 - PythonDesdeCero Challenge Sábado 29/Octubre/2022\n",
        "\n",
        "Referencia: \n",
        "*   https://github.com/Asabeneh/30-Days-Of-Python/blob/master/16_Day_Python_date_time/16_python_datetime.md\n",
        "\n",
        "*   https://strftime.org/\n",
        "\n"
      ],
      "metadata": {
        "id": "Damr8FTXD-Hs"
      }
    },
    {
      "cell_type": "code",
      "source": [
        "!python --version"
      ],
      "metadata": {
        "colab": {
          "base_uri": "https://localhost:8080/"
        },
        "id": "ZNGayuemZCEe",
        "outputId": "1c150d5b-1a4e-458b-ffe1-2ee40c8d8813"
      },
      "execution_count": 16,
      "outputs": [
        {
          "output_type": "stream",
          "name": "stdout",
          "text": [
            "Python 3.7.15\n"
          ]
        }
      ]
    },
    {
      "cell_type": "code",
      "execution_count": 1,
      "metadata": {
        "id": "WogSEW-mCOAd",
        "colab": {
          "base_uri": "https://localhost:8080/"
        },
        "outputId": "1339457b-9f6e-4729-d4b2-3d730f7c6ec3"
      },
      "outputs": [
        {
          "output_type": "stream",
          "name": "stdout",
          "text": [
            "['__add__', '__class__', '__delattr__', '__dir__', '__doc__', '__eq__', '__format__', '__ge__', '__getattribute__', '__gt__', '__hash__', '__init__', '__init_subclass__', '__le__', '__lt__', '__ne__', '__new__', '__radd__', '__reduce__', '__reduce_ex__', '__repr__', '__rsub__', '__setattr__', '__sizeof__', '__str__', '__sub__', '__subclasshook__', 'astimezone', 'combine', 'ctime', 'date', 'day', 'dst', 'fold', 'fromisoformat', 'fromordinal', 'fromtimestamp', 'hour', 'isocalendar', 'isoformat', 'isoweekday', 'max', 'microsecond', 'min', 'minute', 'month', 'now', 'replace', 'resolution', 'second', 'strftime', 'strptime', 'time', 'timestamp', 'timetuple', 'timetz', 'today', 'toordinal', 'tzinfo', 'tzname', 'utcfromtimestamp', 'utcnow', 'utcoffset', 'utctimetuple', 'weekday', 'year']\n"
          ]
        }
      ],
      "source": [
        "#Python has got datetime module to handle date and time.\n",
        "\n",
        "from datetime import datetime\n",
        "\n",
        "#The dir() method returns the list of valid attributes of the passed object.\n",
        "print(dir(datetime))\n"
      ]
    },
    {
      "cell_type": "code",
      "source": [
        "#Getting datetime Information\n",
        "\n",
        "#from datetime import datetime\n",
        "now = datetime.now()\n",
        "print(now)                      # 2021-07-08 07:34:46.549883\n",
        "\n",
        "\n",
        "day = now.day                   # 15\n",
        "month = now.month               # 10\n",
        "year = now.year                 # 2022\n",
        "hour = now.hour                 # Hora miremos el reloj \n",
        "minute = now.minute             # Minuto miremos el reloj \n",
        "second = now.second             # Segundos miremos el reloj\n",
        "timestamp = now.timestamp()\n",
        "\n",
        "print(day, month, year, hour, minute)\n",
        "\n",
        "#Timestamp or Unix timestamp is the number of seconds elapsed from 1st of January 1970 UTC.\n",
        "print('timestamp', timestamp)\n",
        "\n",
        "print(f'{day}/{month}/{year}, {hour}:{minute}')  \n"
      ],
      "metadata": {
        "id": "JrqnZ4oKHgGP",
        "colab": {
          "base_uri": "https://localhost:8080/"
        },
        "outputId": "3015f118-cd0d-4525-b7b5-4592e0d04997"
      },
      "execution_count": 6,
      "outputs": [
        {
          "output_type": "stream",
          "name": "stdout",
          "text": [
            "2022-10-29 15:25:57.739113\n",
            "29 10 2022 15 25\n",
            "timestamp 1667057157.739113\n",
            "29/10/2022, 15:25\n"
          ]
        }
      ]
    },
    {
      "cell_type": "code",
      "source": [
        "#Formatting Date Output Using strftime\n",
        "#from datetime import datetime\n",
        "\n",
        "new_year = datetime(2022, 1, 1)\n",
        "print(new_year)      # 2022-01-01 00:00:00\n",
        "\n",
        "\n",
        "day = new_year.day\n",
        "month = new_year.month\n",
        "year = new_year.year\n",
        "hour = new_year.hour\n",
        "minute = new_year.minute\n",
        "second = new_year.second\n",
        "\n",
        "print(day, month, year, hour, minute) #1 1 2022 0 0\n",
        "\n",
        "print(f'{day}/{month}/{year}, {hour}:{minute}')  # 1/1/2022, 0:0\n",
        "\n"
      ],
      "metadata": {
        "id": "GtfyWaALIJRg",
        "colab": {
          "base_uri": "https://localhost:8080/"
        },
        "outputId": "cbe8edd7-4def-417f-e62d-2a60fddc17cb"
      },
      "execution_count": 9,
      "outputs": [
        {
          "output_type": "stream",
          "name": "stdout",
          "text": [
            "2022-01-01 00:00:00\n",
            "1 1 2022 0 0\n",
            "1/1/2022, 0:0\n"
          ]
        }
      ]
    },
    {
      "cell_type": "markdown",
      "source": [
        "# strftime\n",
        "\n",
        "https://www.programiz.com/python-programming/datetime/strftime\n"
      ],
      "metadata": {
        "id": "RkCmWq09Z9bt"
      }
    },
    {
      "cell_type": "code",
      "source": [
        "#Formatting date time using strftime method (documentation)\n",
        "\n",
        "#from datetime import datetime\n",
        "\n",
        "# current date and time\n",
        "now = datetime.now()\n",
        "print(now)\n",
        "\n",
        "t = now.strftime(\"%H:%M:%S\")\n",
        "print(\"time:\", t)\n",
        "\n",
        "t = now.strftime(\"%H:%H:%H\")\n",
        "print(\"time:\", t)\n",
        "\n",
        "\n",
        "t = now.strftime(\"%h%h:%h\")\n",
        "print(\"time:\", t)\n",
        "t = now.strftime(\"%r%r:%r\")\n",
        "print(\"time:\", t)\n",
        "\n",
        "\n",
        "time_one = now.strftime(\"%m/%d/%Y, %H:%M:%S\")   # mm/dd/YY H:M:S format\n",
        "print(\"time one:\", time_one)\n",
        "\n",
        "time_two = now.strftime(\"%d/%m/%Y, %H:%M:%S\")  # dd/mm/YY H:M:S format\n",
        "print(\"time two:\", time_two)\n"
      ],
      "metadata": {
        "id": "I--ePoC6IfZx",
        "colab": {
          "base_uri": "https://localhost:8080/"
        },
        "outputId": "f491b543-d695-477f-b118-e269c9b38a91"
      },
      "execution_count": 18,
      "outputs": [
        {
          "output_type": "stream",
          "name": "stdout",
          "text": [
            "2022-10-29 15:41:10.071378\n",
            "time: 15:41:10\n",
            "time: 15:15:15\n",
            "time: OctOct:Oct\n",
            "time: 03:41:10 PM03:41:10 PM:03:41:10 PM\n",
            "time one: 10/29/2022, 15:41:10\n",
            "time two: 29/10/2022, 15:41:10\n"
          ]
        }
      ]
    },
    {
      "cell_type": "markdown",
      "source": [
        "# strptime\n",
        "https://www.programiz.com/python-programming/datetime/strptime\n",
        "\n",
        "![image.png](data:image/png;base64,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)"
      ],
      "metadata": {
        "id": "o5ye5He9b9WK"
      }
    },
    {
      "cell_type": "code",
      "source": [
        "#String to Time Using strptime\n",
        "#Here is a documentation hat helps to understand the format.\n",
        "\n",
        "#from datetime import datetime\n",
        "\n",
        "date_string = \"5 December, 2022\"\n",
        "print(\"date_string =\", date_string)\n",
        "\n",
        "\n",
        "date_object = datetime.strptime(date_string, \"%d %B, %Y\")\n",
        "print(\"date_object =\", date_object)\n",
        "\n",
        "date_object = datetime.strptime(date_string, \"%d %B, %Y\")\n",
        "print(\"date_object =\", date_object)"
      ],
      "metadata": {
        "id": "cpuAjLLkJFHb",
        "colab": {
          "base_uri": "https://localhost:8080/"
        },
        "outputId": "45bbc643-dee3-4601-e671-02c3718722e4"
      },
      "execution_count": 22,
      "outputs": [
        {
          "output_type": "stream",
          "name": "stdout",
          "text": [
            "date_string = 5 December, 2022\n",
            "date_object = 2022-12-05 00:00:00\n",
            "date_object = 2022-12-05 00:00:00\n"
          ]
        }
      ]
    },
    {
      "cell_type": "code",
      "source": [
        "#from datetime import datetime\n",
        "\n",
        "date_string = \"21 June, 2018\"\n",
        "\n",
        "print(\"date_string =\", date_string)\n",
        "print(\"type of date_string =\", type(date_string))\n",
        "\n",
        "date_object = datetime.strptime(date_string, \"%d %B, %Y\")\n",
        "\n",
        "print(\"date_object =\", date_object)\n",
        "print(\"type of date_object =\", type(date_object))"
      ],
      "metadata": {
        "colab": {
          "base_uri": "https://localhost:8080/"
        },
        "id": "23B5Kx5sbAGy",
        "outputId": "c7f8362b-1d73-4298-df06-0ce859a00eea"
      },
      "execution_count": 20,
      "outputs": [
        {
          "output_type": "stream",
          "name": "stdout",
          "text": [
            "date_string = 21 June, 2018\n",
            "type of date_string = <class 'str'>\n",
            "date_object = 2018-06-21 00:00:00\n",
            "type of date_object = <class 'datetime.datetime'>\n"
          ]
        }
      ]
    },
    {
      "cell_type": "code",
      "source": [
        "#from datetime import datetime\n",
        "\n",
        "dt_string = \"12/11/2018 09:15:32\"\n",
        "\n",
        "# Considering date is in dd/mm/yyyy format\n",
        "dt_object1 = datetime.strptime(dt_string, \"%d/%m/%Y %H:%M:%S\")\n",
        "print(\"dt_object1 =\", dt_object1)\n",
        "\n",
        "# Considering date is in mm/dd/yyyy format\n",
        "dt_object2 = datetime.strptime(dt_string, \"%m/%d/%Y %H:%M:%S\")\n",
        "print(\"dt_object2 =\", dt_object2)\n",
        "\n",
        "#mes inválido\n",
        "dt_string = \"25/11/2018 09:15:32\"\n",
        "\n",
        "# Considering date is in dd/mm/yyyy format\n",
        "dt_object1 = datetime.strptime(dt_string, \"%d/%m/%Y %H:%M:%S\")\n",
        "print(\"dt_object1 =\", dt_object1)\n",
        "\n",
        "# Considering date is in mm/dd/yyyy format \n",
        "#dt_object2 = datetime.strptime(dt_string, \"%m/%d/%Y %H:%M:%S\")\n",
        "print(\"dt_object2 =\", dt_object2)\n"
      ],
      "metadata": {
        "colab": {
          "base_uri": "https://localhost:8080/"
        },
        "id": "coaktEJycdc8",
        "outputId": "662385a1-4be9-490a-94d9-5da421d12a35"
      },
      "execution_count": 42,
      "outputs": [
        {
          "output_type": "stream",
          "name": "stdout",
          "text": [
            "dt_object1 = 2018-11-12 09:15:32\n",
            "dt_object2 = 2018-12-11 09:15:32\n",
            "dt_object1 = 2018-11-25 09:15:32\n",
            "dt_object2 = 2018-12-11 09:15:32\n"
          ]
        }
      ]
    },
    {
      "cell_type": "code",
      "source": [
        "#Using date from datetime\n",
        "\n",
        "from datetime import date\n",
        "d = date(2022, 1, 1)\n",
        "print(d)\n",
        "print('Current date:', d.today())    # 2022-12-05\n",
        "\n",
        "# date object of today's date\n",
        "today = date.today()\n",
        "print(\"Current year:\", today.year)   # 2022\n",
        "print(\"Current month:\", today.month) # 12\n",
        "print(\"Current day:\", today.day)     # 5"
      ],
      "metadata": {
        "id": "s--htNyiJMYZ",
        "colab": {
          "base_uri": "https://localhost:8080/"
        },
        "outputId": "62995512-d82a-4da4-9461-b2a425b88274"
      },
      "execution_count": 26,
      "outputs": [
        {
          "output_type": "stream",
          "name": "stdout",
          "text": [
            "2022-01-01\n",
            "Current date: 2022-10-29\n",
            "Current year: 2022\n",
            "Current month: 10\n",
            "Current day: 29\n"
          ]
        }
      ]
    },
    {
      "cell_type": "code",
      "source": [
        "#Time Objects to Represent Time\n",
        "\n",
        "from datetime import time\n",
        "# time(hour = 0, minute = 0, second = 0)\n",
        "a = time()\n",
        "print(\"a =\", a)\n",
        "\n",
        "\n",
        "# time(hour, minute and second)\n",
        "b = time(10, 30, 50)\n",
        "print(\"b =\", b)\n",
        "\n",
        "\n",
        "# time(hour, minute and second)\n",
        "c = time(hour=10, minute=30, second=50)\n",
        "print(\"c =\", c)\n",
        "\n",
        "#-------------pruebas-------\n",
        "# time(hour, minute and second)\n",
        "c = time(minute=30, second=50, hour=10)\n",
        "print(\"c =\", c)\n",
        "#b = time(30, 50, 10)\n",
        "print(\"b =\", b)\n",
        "\n",
        "\n",
        "# time(hour, minute, second, microsecond)\n",
        "d = time(10, 30, 50, 200555)\n",
        "print(\"d =\", d)"
      ],
      "metadata": {
        "id": "1r7RyWnBJXHx",
        "colab": {
          "base_uri": "https://localhost:8080/"
        },
        "outputId": "58b85b47-10e3-43a0-c783-d0b059ee40ad"
      },
      "execution_count": 33,
      "outputs": [
        {
          "output_type": "stream",
          "name": "stdout",
          "text": [
            "a = 00:00:00\n",
            "b = 10:30:50\n",
            "c = 10:30:50\n",
            "c = 10:30:50\n",
            "b = 10:30:50\n",
            "d = 10:30:50.200555\n"
          ]
        }
      ]
    },
    {
      "cell_type": "code",
      "source": [
        "#Difference Between Two Points in Time Using\n",
        "today = date(year=2019, month=12, day=5)\n",
        "\n",
        "new_year = date(year=2020, month=1, day=1)\n",
        "\n",
        "time_left_for_newyear = new_year - today\n",
        "# Time left for new year:  27 days, 0:00:00\n",
        "print('Time left for new year: ', time_left_for_newyear)\n",
        "\n",
        "\n",
        "t1 = datetime(year = 2019, month = 12, day = 5, hour = 0, minute = 59, second = 0)\n",
        "t2 = datetime(year = 2020, month = 1, day = 1, hour = 0, minute = 0, second = 0)\n",
        "\n",
        "diff = t2 - t1\n",
        "print('Time left for new year:', diff) # Time left for new year: 26 days, 23: 01: 00"
      ],
      "metadata": {
        "id": "R-tN5XyjJgo1",
        "colab": {
          "base_uri": "https://localhost:8080/"
        },
        "outputId": "dcac7086-d4a2-4947-e59a-e416b25a145f"
      },
      "execution_count": 35,
      "outputs": [
        {
          "output_type": "stream",
          "name": "stdout",
          "text": [
            "Time left for new year:  27 days, 0:00:00\n",
            "Time left for new year: 26 days, 23:01:00\n"
          ]
        }
      ]
    },
    {
      "cell_type": "code",
      "source": [
        "#Difference Between Two Points in Time Using timedelata\n",
        "from datetime import timedelta\n",
        "\n",
        "t1 = timedelta(weeks=12, days=10, hours=4, seconds=20)\n",
        "t2 = timedelta(days=7, hours=5, minutes=3, seconds=30)\n",
        "t3 = t1 - t2\n",
        "\n",
        "print(\"t3 =\", t3)\n",
        "\n",
        "t2 = timedelta(weeks=1, days=0, hours=5, minutes=3, seconds=30)\n",
        "t3 = t1 - t2\n",
        "\n",
        "print(\"t3 =\", t3)"
      ],
      "metadata": {
        "id": "Y7my369TLYRD",
        "colab": {
          "base_uri": "https://localhost:8080/"
        },
        "outputId": "443bcc75-1c2c-47ad-ec5d-234cef229fae"
      },
      "execution_count": 40,
      "outputs": [
        {
          "output_type": "stream",
          "name": "stdout",
          "text": [
            "t3 = 86 days, 22:56:50\n",
            "t3 = 86 days, 22:56:50\n"
          ]
        }
      ]
    }
  ]
}