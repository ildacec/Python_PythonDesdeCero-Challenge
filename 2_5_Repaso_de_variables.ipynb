{
  "cells": [
    {
      "cell_type": "markdown",
      "metadata": {
        "id": "view-in-github",
        "colab_type": "text"
      },
      "source": [
        "<a href=\"https://colab.research.google.com/github/ildacec/Python_PythonDesdeCero-Challenge/blob/main/2_5_Repaso_de_variables.ipynb\" target=\"_parent\"><img src=\"https://colab.research.google.com/assets/colab-badge.svg\" alt=\"Open In Colab\"/></a>"
      ]
    },
    {
      "cell_type": "markdown",
      "source": [
        "# Python Desde Cero 🐍\n",
        "\n",
        "Pyladies Panamá 🌻\n",
        "\n",
        "2022\n",
        "\n",
        "\n",
        "---\n",
        "\n",
        "Day 2 - PythonDesdeCero Challenge\n",
        "\n",
        "---"
      ],
      "metadata": {
        "id": "GoCN0O5wQPQV"
      }
    },
    {
      "cell_type": "markdown",
      "metadata": {
        "id": "P0FMcimPQIBY"
      },
      "source": [
        "## Repaso #1:  Variables "
      ]
    },
    {
      "cell_type": "code",
      "execution_count": 22,
      "metadata": {
        "id": "GBYLVBerQIBb"
      },
      "outputs": [],
      "source": [
        "# Variables in Python\n",
        "#Cambie los valores por sus datos \n",
        "\n",
        "first_name = 'Ilda'\n",
        "last_name = 'Rojas'\n",
        "country = 'Panamá'\n",
        "city = 'Penonomé'\n",
        "age = 15\n",
        "is_married = True\n",
        "\n",
        "#Uso de una variable tipo de dato Lista\n",
        "skills = ['SQL', 'Power BI ', 'R', 'Python']\n",
        "\n",
        "#Uso de una variable tipo de datos Diccionario\n",
        "person_info = {\n",
        "   'firstname':'Ilda',\n",
        "   'lastname':'Rojas',\n",
        "   'country':'Panamá',\n",
        "   'city':'Penonomé'\n",
        "   }\n",
        "\n"
      ]
    },
    {
      "cell_type": "code",
      "source": [
        "# Imprimiendo los valores guardados en las variables\n",
        "\n",
        "print('First name:', first_name)\n",
        "print('First name length:', len(first_name))\n",
        "print('Last name: ', last_name)\n",
        "print('Last name length: ', len(last_name))\n",
        "print('Country: ', country)\n",
        "print('City: ', city)\n",
        "print('Age: ', age)\n",
        "print('Married: ', is_married)\n",
        "print('Skills: ', skills)\n",
        "print('Person information: ', person_info)"
      ],
      "metadata": {
        "colab": {
          "base_uri": "https://localhost:8080/"
        },
        "id": "08_ggOc3Ucw1",
        "outputId": "5b87dfb9-83d1-4496-f703-336792408d12"
      },
      "execution_count": 23,
      "outputs": [
        {
          "output_type": "stream",
          "name": "stdout",
          "text": [
            "First name: Ilda\n",
            "First name length: 4\n",
            "Last name:  Rojas\n",
            "Last name length:  5\n",
            "Country:  Panamá\n",
            "City:  Penonomé\n",
            "Age:  15\n",
            "Married:  True\n",
            "Skills:  ['SQL', 'Power BI ', 'R', 'Python']\n",
            "Person information:  {'firstname': 'Ilda', 'lastname': 'Rojas', 'country': 'Panamá', 'city': 'Penonomé'}\n"
          ]
        }
      ]
    },
    {
      "cell_type": "code",
      "source": [
        "#Asignación de  Variables múltiples en una línea\n",
        "\n",
        "#Múltiples variables se puede declarar en una sola línea: \n",
        "first_name, last_name, country, age, is_married = 'Ilda ', 'Rojas ', 'Penonomé ', 250, True\n",
        "\n",
        "#Múltple impresión en una sola línea\n",
        "print(first_name, last_name, country, age, is_married)\n",
        "\n",
        "#La asignacion es múltiple pero igual se puede imprimir separado\n",
        "print('First name:', first_name)\n",
        "print('Last name: ', last_name)\n",
        "print('Country: ', country)\n",
        "print('Age: ', age)\n",
        "print('Married: ', is_married)"
      ],
      "metadata": {
        "colab": {
          "base_uri": "https://localhost:8080/"
        },
        "id": "zKO-Nw7WVfWz",
        "outputId": "d06fd9e0-2b94-4946-af2c-154f770c03c0"
      },
      "execution_count": 25,
      "outputs": [
        {
          "output_type": "stream",
          "name": "stdout",
          "text": [
            "Ilda  Rojas  Penonomé  250 True\n",
            "First name: Ilda \n",
            "Last name:  Rojas \n",
            "Country:  Penonomé \n",
            "Age:  250\n",
            "Married:  True\n"
          ]
        }
      ]
    },
    {
      "cell_type": "code",
      "source": [
        "##Entrada de valores\n",
        "\n",
        "first_name = input('¿Cuál es tu nombre?: ')\n",
        "age = input('¿Cuántos años tienes? ')\n",
        "\n",
        "print(first_name)\n",
        "print(age)"
      ],
      "metadata": {
        "colab": {
          "base_uri": "https://localhost:8080/"
        },
        "id": "k1uMMuUjVB58",
        "outputId": "cb91e518-fd6e-4849-bb03-ff32b421c47d"
      },
      "execution_count": 26,
      "outputs": [
        {
          "output_type": "stream",
          "name": "stdout",
          "text": [
            "¿Cuál es tu nombre?: Ilda\n",
            "¿Cuántos años tienes? 15\n",
            "Ilda\n",
            "15\n"
          ]
        }
      ]
    },
    {
      "cell_type": "code",
      "source": [
        "#Nombres inváldos para las variables\n",
        "\n",
        "first@name = \"tu nombre\"\n",
        "first$name = \"tu nombre\"\n",
        "age-1 = 250\n",
        "1age = 250"
      ],
      "metadata": {
        "colab": {
          "base_uri": "https://localhost:8080/",
          "height": 131
        },
        "id": "ko7n6u8pYfZ2",
        "outputId": "e12233f8-df30-41e4-834b-765900ca570e"
      },
      "execution_count": 28,
      "outputs": [
        {
          "output_type": "error",
          "ename": "SyntaxError",
          "evalue": "ignored",
          "traceback": [
            "\u001b[0;36m  File \u001b[0;32m\"<ipython-input-28-10da680ff400>\"\u001b[0;36m, line \u001b[0;32m4\u001b[0m\n\u001b[0;31m    first$name = \"tu nombre\"\u001b[0m\n\u001b[0m         ^\u001b[0m\n\u001b[0;31mSyntaxError\u001b[0m\u001b[0;31m:\u001b[0m invalid syntax\n"
          ]
        }
      ]
    },
    {
      "cell_type": "markdown",
      "metadata": {
        "id": "uVCE_qDpQIBc"
      },
      "source": [
        "## Repaso #2: Tipo de Datos"
      ]
    },
    {
      "cell_type": "code",
      "execution_count": 29,
      "metadata": {
        "id": "plN1kuraQIBd",
        "outputId": "9a7ccb2a-9946-4109-c772-e3ed86682857",
        "colab": {
          "base_uri": "https://localhost:8080/"
        }
      },
      "outputs": [
        {
          "output_type": "stream",
          "name": "stdout",
          "text": [
            "<class 'str'>\n",
            "<class 'str'>\n",
            "<class 'str'>\n",
            "<class 'float'>\n",
            "<class 'complex'>\n",
            "<class 'bool'>\n",
            "<class 'list'>\n",
            "<class 'dict'>\n",
            "<class 'tuple'>\n"
          ]
        }
      ],
      "source": [
        "#Tipo de datos\n",
        "\n",
        "# Printing out types\n",
        "print(type(first_name))     # str\n",
        "print(type(last_name))      # str\n",
        "print(type(age))            # int\n",
        "print(type(3.14))           # float\n",
        "print(type(1 + 1j))         # complex\n",
        "print(type(True))           # bool\n",
        "print(type([1, 2, 3, 4]))   # list\n",
        "print(type({'name':'Tu nombre','age':250, 'is_married':True}))    # dict\n",
        "print(type((1,2)))                                                # tuple "
      ]
    },
    {
      "cell_type": "code",
      "execution_count": null,
      "metadata": {
        "collapsed": true,
        "id": "k96EjcHTQIBd"
      },
      "outputs": [],
      "source": [
        ""
      ]
    }
  ],
  "metadata": {
    "kernelspec": {
      "display_name": "Python [default]",
      "language": "python",
      "name": "python3"
    },
    "language_info": {
      "codemirror_mode": {
        "name": "ipython",
        "version": 3
      },
      "file_extension": ".py",
      "mimetype": "text/x-python",
      "name": "python",
      "nbconvert_exporter": "python",
      "pygments_lexer": "ipython3",
      "version": "3.5.4"
    },
    "colab": {
      "name": "2.5 Repaso de variables.ipynb",
      "provenance": [],
      "include_colab_link": true
    }
  },
  "nbformat": 4,
  "nbformat_minor": 0
}