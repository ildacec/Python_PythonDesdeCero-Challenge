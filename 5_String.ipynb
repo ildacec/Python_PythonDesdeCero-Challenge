{
  "nbformat": 4,
  "nbformat_minor": 0,
  "metadata": {
    "colab": {
      "provenance": [],
      "collapsed_sections": [],
      "authorship_tag": "ABX9TyNk/UWFIaidFn9T4CQuzqSS",
      "include_colab_link": true
    },
    "kernelspec": {
      "name": "python3",
      "display_name": "Python 3"
    },
    "language_info": {
      "name": "python"
    }
  },
  "cells": [
    {
      "cell_type": "markdown",
      "metadata": {
        "id": "view-in-github",
        "colab_type": "text"
      },
      "source": [
        "<a href=\"https://colab.research.google.com/github/ildacec/Python_PythonDesdeCero-Challenge/blob/main/5_String.ipynb\" target=\"_parent\"><img src=\"https://colab.research.google.com/assets/colab-badge.svg\" alt=\"Open In Colab\"/></a>"
      ]
    },
    {
      "cell_type": "markdown",
      "source": [
        "# Python Desde Cero 🐍\n",
        "\n",
        "Pyladies Panamá 🌻\n",
        "\n",
        "2022\n",
        "\n",
        "\n",
        "---\n",
        "\n",
        "Day 3 - PythonDesdeCero Challenge\n",
        "* Sábado 03/Septiembre/2022\n",
        "\n",
        "\n",
        "---\n",
        "Autor: Asabeneh \n",
        "\n",
        "Referencia: https://github.com/Asabeneh/30-Days-Of-Python/blob/master/04_Day_Strings/04_strings.md\n",
        "\n"
      ],
      "metadata": {
        "id": "cq9GrzUCkqtZ"
      }
    },
    {
      "cell_type": "markdown",
      "source": [
        "\n",
        "\n",
        "---\n",
        "\n",
        "\n",
        "**Strings**"
      ],
      "metadata": {
        "id": "m5Js3ftzlZwB"
      }
    },
    {
      "cell_type": "code",
      "execution_count": null,
      "metadata": {
        "id": "ROR9iHOIkl4W",
        "colab": {
          "base_uri": "https://localhost:8080/"
        },
        "outputId": "98ff8017-f98f-4826-a300-0929869c1f23"
      },
      "outputs": [
        {
          "output_type": "stream",
          "name": "stdout",
          "text": [
            "P\n",
            "1\n",
            "Hello, World!\n",
            "13\n",
            "I hope you are enjoying 30 days of Python Challenge\n"
          ]
        }
      ],
      "source": [
        "#Creating a String\n",
        "\n",
        "letter = 'P'                # A string could be a single character or a bunch of texts\n",
        "print(letter)               # P\n",
        "print(len(letter))          # 1\n",
        "greeting = 'Hello, World!'  # String could be made using a single or double quote,\"Hello, World!\"\n",
        "print(greeting)             # Hello, World!\n",
        "print(len(greeting))        # 13\n",
        "sentence = \"I hope you are enjoying 30 days of Python Challenge\"\n",
        "print(sentence)"
      ]
    },
    {
      "cell_type": "code",
      "source": [
        "#Multiline string is created by using triple single (''') or triple double quotes (\"\"\"). See the example below.\n",
        "\n",
        "multiline_string = '''Estoy aprendiendo Python.\n",
        "Hoy es el 3er. sábado que me uno a clases.'''\n",
        "print(multiline_string)\n",
        "\n"
      ],
      "metadata": {
        "id": "6CKtvOTPkp7G",
        "colab": {
          "base_uri": "https://localhost:8080/"
        },
        "outputId": "24d942a7-d80c-4686-afd8-4e2ae913522d"
      },
      "execution_count": null,
      "outputs": [
        {
          "output_type": "stream",
          "name": "stdout",
          "text": [
            "Estoy aprendiendo Python.\n",
            "Hoy es el 3er. sábado que me uno a clases.\n"
          ]
        }
      ]
    },
    {
      "cell_type": "code",
      "source": [
        "# Another way of doing the same thing\n",
        "multiline_string = \"\"\"Estoy aprendiendo Python.\n",
        "Hoy es el 3er. sábado que me uno a clases.\"\"\"\n",
        "print(multiline_string)"
      ],
      "metadata": {
        "id": "kHGNqpXLl9c5",
        "colab": {
          "base_uri": "https://localhost:8080/"
        },
        "outputId": "df7dd9d6-a4a9-427e-a2d4-3bd009fae42d"
      },
      "execution_count": null,
      "outputs": [
        {
          "output_type": "stream",
          "name": "stdout",
          "text": [
            "Estoy aprendiendo Python.\n",
            "Hoy es el 3er. sábado que me uno a clases.\n"
          ]
        }
      ]
    },
    {
      "cell_type": "code",
      "source": [
        "#Concatenación de cadenas \n",
        "\n",
        "first_name = 'Ilda Cecilia'\n",
        "last_name = 'Rojas'\n",
        "space = ' '\n",
        "full_name = first_name  +  space + last_name\n",
        "#full_name = first_name   + last_name\n",
        "print(full_name) # Se imprime tu nombre y tu apellido (juntos separados por el espacio)\n",
        "\n",
        "\n",
        "# Validando el tamaño de las cadenas\n",
        "print(len(first_name))  # ?\n",
        "print(len(last_name))   # ?\n",
        "print(len(first_name) > len(last_name)) # True\n",
        "print(len(full_name)) # ?"
      ],
      "metadata": {
        "id": "t89-EJkwmI0D",
        "colab": {
          "base_uri": "https://localhost:8080/"
        },
        "outputId": "fbac87c9-59a7-4951-bb58-f09931d8c608"
      },
      "execution_count": null,
      "outputs": [
        {
          "output_type": "stream",
          "name": "stdout",
          "text": [
            "Ilda Cecilia Rojas\n",
            "12\n",
            "5\n",
            "True\n",
            "18\n"
          ]
        }
      ]
    },
    {
      "cell_type": "markdown",
      "source": [
        "##Sentencias de Escape en String\n",
        "\n",
        "|Caracter de Escape o Salto |Descripción |\n",
        "|---|---|\n",
        "| \\n: | new line |\n",
        "| \\t: | Tab means(8 spaces) |\n",
        "| \\\\\\\\: | Back slash |\n",
        "| \\\\\\': | Single quote (') |\n",
        "| \\\\\\\": |Double quote (\") |\n",
        "\n"
      ],
      "metadata": {
        "id": "6QgCPszqmrko"
      }
    },
    {
      "cell_type": "code",
      "source": [
        "\n",
        "\n",
        "print('I hope everyone is enjoying the Python Challenge.\\nAre you ?') # line break\n",
        "print('Days\\tTopics\\tExercises') # adding tab space or 4 spaces \n",
        "print('Day 1\\t3\\t5')\n",
        "print('Day 2\\t3\\t5')\n",
        "print('Day 3\\t3\\t5')\n",
        "print('Day 4\\t3\\t5')\n",
        "print('This is a backslash  symbol (\\\\)') # To write a backslash\n",
        "print('In every programming language it starts with \\\"Hello, World!\\\"') # to write a double quote inside a single quote\n",
        "\n"
      ],
      "metadata": {
        "id": "R0lSiA3SmlQ7",
        "colab": {
          "base_uri": "https://localhost:8080/"
        },
        "outputId": "496862c4-6b87-4000-d867-05136669811c"
      },
      "execution_count": null,
      "outputs": [
        {
          "output_type": "stream",
          "name": "stdout",
          "text": [
            "I hope everyone is enjoying the Python Challenge.\n",
            "Are you ?\n",
            "Days\tTopics\tExercises\n",
            "Day 1\t3\t5\n",
            "Day 2\t3\t5\n",
            "Day 3\t3\t5\n",
            "Day 4\t3\t5\n",
            "This is a backslash  symbol (\\)\n",
            "In every programming language it starts with \"Hello, World!\"\n"
          ]
        }
      ]
    },
    {
      "cell_type": "markdown",
      "source": [
        "# String formatting\n",
        "---\n",
        "\n",
        "New Style String Formatting (str.format)\n",
        "This formatting is introduced in Python version 3.\n"
      ],
      "metadata": {
        "id": "OqoaqtQHvV3p"
      }
    },
    {
      "cell_type": "code",
      "source": [
        "\n",
        "first_name = 'Ilda Cecilia'\n",
        "last_name = 'Rojas'\n",
        "language = 'Python'\n",
        "formated_string = 'Yo soy {} {}. Yo estudio {}'.format(first_name, last_name, language)\n",
        "\n",
        "print(formated_string)\n"
      ],
      "metadata": {
        "id": "TJiPsxRQvVKM",
        "colab": {
          "base_uri": "https://localhost:8080/"
        },
        "outputId": "f26e00ec-4c85-4c11-9c5f-d73b1b259ebf"
      },
      "execution_count": null,
      "outputs": [
        {
          "output_type": "stream",
          "name": "stdout",
          "text": [
            "Yo soy Ilda Cecilia Rojas. Yo estudio Python\n"
          ]
        }
      ]
    },
    {
      "cell_type": "code",
      "source": [
        "#Formanteando salida con números\n",
        "a = 4\n",
        "b = 3\n",
        "\n",
        "print('{} + {} = {}'.format(a, b, a + b))\n",
        "print('{} - {} = {}'.format(a, b, a - b))\n",
        "print('{} * {} = {}'.format(a, b, a * b))\n",
        "print('{} / {} = {:.2f}'.format(a, b, a / b)) # limits it to two digits after decimal\n",
        "print('{} % {} = {}'.format(a, b, a % b))\n",
        "print('{} // {} = {}'.format(a, b, a // b))\n",
        "print('{} ** {} = {}'.format(a, b, a ** b))"
      ],
      "metadata": {
        "id": "En5TH02rzCD0",
        "colab": {
          "base_uri": "https://localhost:8080/"
        },
        "outputId": "461a428d-08b0-4146-e1bc-cd25279b1d64"
      },
      "execution_count": null,
      "outputs": [
        {
          "output_type": "stream",
          "name": "stdout",
          "text": [
            "4 + 3 = 7\n",
            "4 - 3 = 1\n",
            "4 * 3 = 12\n",
            "4 / 3 = 1.33\n",
            "4 % 3 = 1\n",
            "4 // 3 = 1\n",
            "4 ** 3 = 64\n"
          ]
        }
      ]
    },
    {
      "cell_type": "code",
      "source": [
        "# Strings  and numbers\n",
        "radius = 10\n",
        "pi = 3.14\n",
        "area = pi * radius ** 2\n",
        "\n",
        "formated_string = 'El área del círculo con un radio de {} es {:.5f}'.format(radius, area) # 2 digits after decimal\n",
        "\n",
        "print(formated_string)"
      ],
      "metadata": {
        "id": "ZmE9cVUNvzRW",
        "colab": {
          "base_uri": "https://localhost:8080/"
        },
        "outputId": "74bfb5b7-274b-4250-d8e2-2bfff81645f2"
      },
      "execution_count": null,
      "outputs": [
        {
          "output_type": "stream",
          "name": "stdout",
          "text": [
            "El área del círculo con un radio de 10 es 314.00000\n"
          ]
        }
      ]
    },
    {
      "cell_type": "code",
      "source": [
        "#Interpolación de cadenas / f-Strings (Python 3.6+)\n",
        "'''La interpolación de cadenas se refiere a la técnica de insertar valores de variables en lugar de marcadores de posición en una cadena. \n",
        "Usando la interpolación de cadenas, uno puede insertar dinámicamente valores dentro de una cadena.'''\n",
        "\n",
        "a = 4\n",
        "b = 3\n",
        "\n",
        "print(f'{a} + {b} = {a +b}')\n",
        "print(f'{a} - {b} = {a - b}')\n",
        "print(f'{a} * {b} = {a * b}')\n",
        "print(f'{a} / {b} = {a / b:.2f}')\n",
        "print(f'{a} % {b} = {a % b}')\n",
        "print(f'{a} // {b} = {a // b}')\n",
        "print(f'{a} ** {b} = {a ** b}')"
      ],
      "metadata": {
        "id": "47HvbpLf0Ghc",
        "colab": {
          "base_uri": "https://localhost:8080/"
        },
        "outputId": "75f05bdc-550d-4095-a04c-16484719e99d"
      },
      "execution_count": null,
      "outputs": [
        {
          "output_type": "stream",
          "name": "stdout",
          "text": [
            "4 + 3 = 7\n",
            "4 - 3 = 1\n",
            "4 * 3 = 12\n",
            "4 / 3 = 1.33\n",
            "4 % 3 = 1\n",
            "4 // 3 = 1\n",
            "4 ** 3 = 64\n"
          ]
        }
      ]
    },
    {
      "cell_type": "markdown",
      "source": [
        "# Python Strings as Sequences of Characters"
      ],
      "metadata": {
        "id": "M3kjf4yx6hC4"
      }
    },
    {
      "cell_type": "code",
      "source": [
        "#Unpacking Characters\n",
        "language = 'Python'\n",
        "a,b,c,d,e,f = language #unpacking sequence characters into variables\n",
        "\n",
        "\n",
        "print(a) # P\n",
        "print(b) # y\n",
        "print(c) # t\n",
        "print(d) # h\n",
        "print(e) # o\n",
        "print(f) # n\n",
        "\n",
        "#print(g) # ?"
      ],
      "metadata": {
        "id": "E5jxUXfn6gos",
        "colab": {
          "base_uri": "https://localhost:8080/"
        },
        "outputId": "031b3454-94cb-486e-da47-78e23041d075"
      },
      "execution_count": null,
      "outputs": [
        {
          "output_type": "stream",
          "name": "stdout",
          "text": [
            "P\n",
            "y\n",
            "t\n",
            "h\n",
            "o\n",
            "n\n"
          ]
        }
      ]
    },
    {
      "cell_type": "markdown",
      "source": [
        "### Accediendo Caracteres en Cadenas por Index\n",
        "En Python iniciamos a contar desde \"Cero\".  \n",
        "Por lo tanto, la primera letra de una cadena tiene un índice cero y la última letra de una cadena es la longitud de una cadena menos uno.\n",
        "\n",
        "![image.png](data:image/png;base64,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)"
      ],
      "metadata": {
        "id": "W-_QrqhV7Aib"
      }
    },
    {
      "cell_type": "code",
      "source": [
        "#Validemos!!!\n",
        "\n",
        "language = 'Python asdfawfasfasdfasdfadfasdfasfasdfsadfsadfasfasdfsadfasfafpo'\n",
        "first_letter = language[0]\n",
        "print(first_letter) # P\n",
        "\n",
        "\n",
        "second_letter = language[1]\n",
        "print(second_letter) # y\n",
        "\n",
        "last_index = len(language) - 1\n",
        "last_letter = language[last_index]\n",
        "print(last_letter) # n"
      ],
      "metadata": {
        "id": "ljjrRK4-9q_K",
        "colab": {
          "base_uri": "https://localhost:8080/"
        },
        "outputId": "337e2499-b170-432b-b38c-dd03174637ed"
      },
      "execution_count": null,
      "outputs": [
        {
          "output_type": "stream",
          "name": "stdout",
          "text": [
            "P\n",
            "y\n",
            "o\n"
          ]
        }
      ]
    },
    {
      "cell_type": "markdown",
      "source": [
        "Indexación negativa\n",
        "\n",
        "![image.png](data:image/png;base64,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)"
      ],
      "metadata": {
        "id": "fCi80pk4--LN"
      }
    },
    {
      "cell_type": "code",
      "source": [
        "#Si queremos comenzar desde el extremo derecho, podemos usar la indexación negativa. -1 es el último índice.\n",
        "\n",
        "language = 'Python'\n",
        "last_letter = language[-1]\n",
        "print(last_letter) # n\n",
        "\n",
        "\n",
        "second_last = language[-2]\n",
        "print(second_last) # o\n",
        "\n",
        "last_index = len(language) * -1     # 6 * -1  = -6\n",
        "last_letter = language[last_index]\n",
        "print(last_letter) # n"
      ],
      "metadata": {
        "id": "uEKeCZaA9_8p",
        "colab": {
          "base_uri": "https://localhost:8080/"
        },
        "outputId": "82f6fcf8-cb7b-4d55-f90f-ff77e969b076"
      },
      "execution_count": null,
      "outputs": [
        {
          "output_type": "stream",
          "name": "stdout",
          "text": [
            "n\n",
            "o\n",
            "P\n"
          ]
        }
      ]
    },
    {
      "cell_type": "markdown",
      "source": [
        "Cadena en reverso en Python\n"
      ],
      "metadata": {
        "id": "62G35WqkxDdz"
      }
    },
    {
      "cell_type": "code",
      "source": [
        "\n",
        "#Valdidemos\n",
        "greeting = 'hello, world!'\n",
        "print(greeting[:0: -1]) # !dlroW ,olleH\n",
        "\n",
        "print(greeting[:: -1]) # !dlroW ,olleH\n",
        "\n",
        "print(greeting[:5: -1]) # !dlroW ,olleH\n",
        "\n",
        "\n"
      ],
      "metadata": {
        "id": "Ho-Z8SL0xDCh",
        "colab": {
          "base_uri": "https://localhost:8080/"
        },
        "outputId": "6e4090fa-0d37-40fc-af98-248560a4a9a2"
      },
      "execution_count": null,
      "outputs": [
        {
          "output_type": "stream",
          "name": "stdout",
          "text": [
            "!dlrow ,olle\n",
            "!dlrow ,olleh\n",
            "!dlrow \n"
          ]
        }
      ]
    },
    {
      "cell_type": "code",
      "source": [
        "#Saltar Caracteres\n",
        "\n",
        "language = 'Python'\n",
        "pto = language[0:6:2] #\n",
        "print(pto) # Pto\n",
        "\n",
        "pto = language[0:6:5] #\n",
        "print(pto) # Pto\n"
      ],
      "metadata": {
        "id": "S4rMpgYqxOpO",
        "colab": {
          "base_uri": "https://localhost:8080/"
        },
        "outputId": "9495c562-acd0-40f3-cd6a-c7718c026d57"
      },
      "execution_count": null,
      "outputs": [
        {
          "output_type": "stream",
          "name": "stdout",
          "text": [
            "Pto\n",
            "Pn\n"
          ]
        }
      ]
    },
    {
      "cell_type": "markdown",
      "source": [
        ">Saltar Caracteres\n",
        "\n",
        "![image.png](data:image/png;base64,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)"
      ],
      "metadata": {
        "id": "vwF1M5YOz01W"
      }
    },
    {
      "cell_type": "code",
      "source": [
        "cadena = 'P2y0t8h4o0n3!'\n",
        "pto = cadena[0::2] #\n",
        "print(pto) # Pto"
      ],
      "metadata": {
        "id": "xwOVDazUzzxy",
        "colab": {
          "base_uri": "https://localhost:8080/"
        },
        "outputId": "c110235f-b08d-494e-c799-01a64253bf57"
      },
      "execution_count": null,
      "outputs": [
        {
          "output_type": "stream",
          "name": "stdout",
          "text": [
            "Python!\n"
          ]
        }
      ]
    },
    {
      "cell_type": "markdown",
      "source": [
        "# Métodos / Funciones de Cadenas\n",
        "\n",
        "Exiten muchos métodos del objeto String (cadena) que podemos utilizar. \n",
        "Aquí presentamos algunos ejemplos: \n"
      ],
      "metadata": {
        "id": "DgM3BfAO1QqB"
      }
    },
    {
      "cell_type": "code",
      "source": [
        "nombre = 'Ilda'\n",
        "\n",
        "nombre.capitalize"
      ],
      "metadata": {
        "id": "rJYe-k925m_U"
      },
      "execution_count": null,
      "outputs": []
    },
    {
      "cell_type": "code",
      "source": [
        "#capitalize(): Convierte el primer caracter de la cadena en Mayúscula\n",
        "\n",
        "challenge = 'reto de Python'\n",
        "print(challenge.capitalize()) \n"
      ],
      "metadata": {
        "id": "4C0pwH0D1iFg",
        "colab": {
          "base_uri": "https://localhost:8080/"
        },
        "outputId": "4e083dd3-26c6-47ac-e526-f0fa6e3d3fc9"
      },
      "execution_count": null,
      "outputs": [
        {
          "output_type": "stream",
          "name": "stdout",
          "text": [
            "Reto de python\n"
          ]
        }
      ]
    },
    {
      "cell_type": "code",
      "source": [
        "#count(): Retorna la cantidad de ocurrencas de un subcadena en una cadena \n",
        "'''\n",
        "Count(substring, start=.., end=..). \n",
        "The start is a starting indexing for counting and end is the last index to count.'''\n",
        "\n",
        "challenge = 'Pyladies enseña python en Challenge Pyladies Panama'\n",
        "print(challenge.count('y'))         # 2\n",
        "print(challenge.count('y', 7, 15))  # 1, \n",
        "print(challenge.count('Pyladies'))        # 2`"
      ],
      "metadata": {
        "id": "LwTaFdA617MI",
        "colab": {
          "base_uri": "https://localhost:8080/"
        },
        "outputId": "4ef34d95-50d4-4af5-b05a-c4e6561a9b5c"
      },
      "execution_count": null,
      "outputs": [
        {
          "output_type": "stream",
          "name": "stdout",
          "text": [
            "3\n",
            "0\n",
            "2\n"
          ]
        }
      ]
    },
    {
      "cell_type": "code",
      "source": [
        "#endswith(): Permite validar el final de una cadena, termina en una \"subcadena / cadena\" específica\n",
        "\n",
        "challenge = 'aprendiendo python con Pyladies Panama'\n",
        "\n",
        "print(challenge.endswith('ma'))   # True\n",
        "print(challenge.endswith('Panama')) # True\n",
        "print(challenge.endswith('jma')) # False"
      ],
      "metadata": {
        "id": "q7xd8qJG2mPU",
        "colab": {
          "base_uri": "https://localhost:8080/"
        },
        "outputId": "28ff0426-b7de-4f86-a3eb-32ba44fb4eea"
      },
      "execution_count": null,
      "outputs": [
        {
          "output_type": "stream",
          "name": "stdout",
          "text": [
            "True\n",
            "True\n",
            "False\n"
          ]
        }
      ]
    },
    {
      "cell_type": "code",
      "source": [
        "#expandtabs(): \n",
        "'''\n",
        "Reemplaza el carácter de tabulación con espacios, el tamaño de tabulación predeterminado es 8. \n",
        "Toma el argumento de tamaño de tabulación.'''\n",
        "\n",
        "challenge = 'aprendiendo\\tpython\\tcon\\tPyladies\\tPanama'\n",
        "\n",
        "print(challenge.expandtabs())   # 'thirty  days    of      python'\n",
        "print(challenge.expandtabs(20)) # 'thirty    days      of        python'"
      ],
      "metadata": {
        "id": "Renoizwp29re",
        "colab": {
          "base_uri": "https://localhost:8080/"
        },
        "outputId": "20f5f8d0-40dc-4c14-c523-b2842dc44e06"
      },
      "execution_count": null,
      "outputs": [
        {
          "output_type": "stream",
          "name": "stdout",
          "text": [
            "aprendiendo     python  con     Pyladies        Panama\n",
            "aprendiendo         python              con                 Pyladies            Panama\n"
          ]
        }
      ]
    },
    {
      "cell_type": "code",
      "source": [
        "#find(): Retorna el índice de la primera ocurrencia, si no lo encuentra retorna -1\n",
        "\n",
        "challenge = 'aprendiendo python con Pyladies Panama'\n",
        "\n",
        "print(challenge.find('y'))  \n",
        "print(challenge.find('th')) "
      ],
      "metadata": {
        "id": "ZmYrvER63_GN"
      },
      "execution_count": null,
      "outputs": []
    },
    {
      "cell_type": "code",
      "source": [
        "#rfind(): Retorna el índice de la última ocurrencia ocurrencia, si no lo encuentra retorna -1\n",
        "\n",
        "challenge = 'aprendiendo python con Pyladies Panama'\n",
        "\n",
        "print(challenge.rfind('y'))  \n",
        "print(challenge.rfind('th')) "
      ],
      "metadata": {
        "id": "z9dfi87U4Vdb"
      },
      "execution_count": null,
      "outputs": []
    },
    {
      "cell_type": "code",
      "source": [
        "#format(): Da formato a cadenas de manera más elegante\n",
        "\n",
        "\n",
        "first_name = tu nombre\n",
        "last_name = tu apellido\n",
        "age = 250\n",
        "job = Tu trabajo\n",
        "country = tu pais\n",
        "sentence = 'Yo soy  {} {}. Yo tengo {} años. Vivo en {}.'.format(first_name, last_name, age, job, country)\n",
        "\n",
        "print(sentence) \n",
        "\n",
        "\n",
        "\n",
        "radius = 10\n",
        "pi = 3.14\n",
        "area = pi * radius ** 2\n",
        "result = 'The area of a circle with radius {} is {}'.format(str(radius), str(area))\n",
        "\n",
        "print(result) \n"
      ],
      "metadata": {
        "id": "MKjqRMsw4h0I"
      },
      "execution_count": null,
      "outputs": []
    },
    {
      "cell_type": "code",
      "source": [
        "#index(): \n",
        "'''\n",
        "Returns the lowest index of a substring, additional arguments indicate starting and ending index (default 0 and string length - 1). \n",
        "If the substring is not found it raises a valueError.\n",
        "'''\n",
        "\n",
        "challenge = 'aprendiendo python con Pyladies desde Panama'\n",
        "sub_string = 'es'\n",
        "print(challenge.index(sub_string))  \n",
        "print(challenge.index(sub_string, 15)) # error"
      ],
      "metadata": {
        "id": "e0nkXnFv5Tdb"
      },
      "execution_count": null,
      "outputs": []
    },
    {
      "cell_type": "code",
      "source": [
        "#rindex(): \n",
        "'''\n",
        "Retorna el último índice de una substring.\n",
        "Argumentos indican inicio y fin del índice (default 0 and string length - 1)\n",
        "'''\n",
        "\n",
        "challenge = 'aprendiendo python con Pyladies desde Panama'\n",
        "sub_string = 'es'\n",
        "print(challenge.rindex(sub_string))  # 8\n",
        "print(challenge.rindex(sub_string, 30)) # error"
      ],
      "metadata": {
        "id": "KoxMdZ05_ow4"
      },
      "execution_count": null,
      "outputs": []
    },
    {
      "cell_type": "code",
      "source": [
        "#isalnum(): Valda los caracteres \"Alfanuméricos\"\n",
        "challenge = 'ThirtyDaysPython'\n",
        "print(challenge.isalnum()) # True\n",
        "\n",
        "challenge = '30DaysPython'\n",
        "print(challenge.isalnum()) # True\n",
        "\n",
        "challenge = 'thirty days of Python'\n",
        "print(challenge.isalnum()) # False, space is not an alphanumeric character\n",
        "\n",
        "challenge = 'thirty days of python 2019'\n",
        "print(challenge.isalnum()) # False"
      ],
      "metadata": {
        "id": "tCnRdl1oD3Nu"
      },
      "execution_count": null,
      "outputs": []
    },
    {
      "cell_type": "code",
      "source": [
        "#isalpha(): Valida si todos los elementos de la cadena son caracteres del alfabeto (a-z and A-Z)\n",
        "\n",
        "challenge = 'thirty days of python'\n",
        "print(challenge.isalpha()) # False, space is once again excluded\n",
        "\n",
        "challenge = 'ThirtyDaysPython'\n",
        "print(challenge.isalpha()) # True\n",
        "\n",
        "num = '123'\n",
        "print(num.isalpha())      # False"
      ],
      "metadata": {
        "id": "ftmQbSILEjeN"
      },
      "execution_count": null,
      "outputs": []
    },
    {
      "cell_type": "code",
      "source": [
        "#isdecimal(): Checks if all characters in a string are decimal (0-9)\n",
        "\n",
        "challenge = 'thirty days of python'\n",
        "print(challenge.isdecimal())  # False\n",
        "\n",
        "challenge = '123'\n",
        "print(challenge.isdecimal())  # True\n",
        "\n",
        "challenge = '12 3'\n",
        "print(challenge.isdecimal())  # False, space not allowed\n",
        "\n",
        "challenge = '123.22'\n",
        "print(challenge.isdecimal())  # False"
      ],
      "metadata": {
        "id": "P-uYYiyFEyiX"
      },
      "execution_count": null,
      "outputs": []
    },
    {
      "cell_type": "code",
      "source": [
        "#isdigit(): Valida si todos los caracteres de una cadena son números (0-9 and some other unicode characters for numbers)\n",
        "\n",
        "challenge = 'Thirty'\n",
        "print(challenge.isdigit()) # False\n",
        "\n",
        "challenge = '30'\n",
        "print(challenge.isdigit())   # True\n",
        "\n",
        "challenge = '\\u00B2'\n",
        "print(challenge.isdigit())   # True"
      ],
      "metadata": {
        "id": "dfnv70hMFM6o"
      },
      "execution_count": null,
      "outputs": []
    },
    {
      "cell_type": "code",
      "source": [
        "#isnumeric(): Valida si todos los caracteres de la cadena son números o relacionados a un número ( isdigit(), acepta símbolos y ½)\n",
        "\n",
        "num = '10'\n",
        "print(num.isnumeric()) # True\n",
        "\n",
        "num = '\\u00BD' # ½\n",
        "print(num.isnumeric()) # True\n",
        "\n",
        "num = '10.5'\n",
        "print(num.isnumeric()) # False"
      ],
      "metadata": {
        "id": "tGELOJGMF8Mv"
      },
      "execution_count": null,
      "outputs": []
    },
    {
      "cell_type": "code",
      "source": [
        "#isidentifier(): Valida si hay un identificador válido - valida si el string puede ser un nombre de variable válido\n",
        "\n",
        "challenge = '30DaysOfPython'\n",
        "print(challenge.isidentifier()) # False, because it starts with a number\n",
        "\n",
        "challenge = 'thirty_days_of_python'\n",
        "print(challenge.isidentifier()) # True\n",
        "\n",
        "challenge = '_thirty_days_of_python'\n",
        "print(challenge.isidentifier()) # True\n"
      ],
      "metadata": {
        "id": "5CFyktMIGkHN"
      },
      "execution_count": null,
      "outputs": []
    },
    {
      "cell_type": "code",
      "source": [
        "#islower(): Valida si todo los caracteres del alfabeto en la cadena están en minúscula \n",
        "\n",
        "challenge = 'thirty days of python'\n",
        "print(challenge.islower()) # True\n",
        "\n",
        "challenge = 'Thirty days of python'\n",
        "print(challenge.islower()) # False"
      ],
      "metadata": {
        "id": "AqrJ0QclHA3e"
      },
      "execution_count": null,
      "outputs": []
    },
    {
      "cell_type": "code",
      "source": [
        "#isupper(): Valida si todo los caracteres del alfabeto en la cadena están en mayúscula\n",
        "\n",
        "challenge = 'thirty days of python'\n",
        "print(challenge.isupper()) #  False\n",
        "\n",
        "challenge = 'THIRTY DAYS OF PYTHON'\n",
        "print(challenge.isupper()) # True"
      ],
      "metadata": {
        "id": "RNr2HXViHKqD"
      },
      "execution_count": null,
      "outputs": []
    },
    {
      "cell_type": "code",
      "source": [
        "#join(): Returns a concatenated string\n",
        "\n",
        "web_tech = ['HTML', 'CSS', 'JavaScript', 'React']\n",
        "\n",
        "result = ' '.join(web_tech)\n",
        "print(result) # 'HTML CSS JavaScript React'\n",
        "\n",
        "#Prácticalo con separador de comas!\n"
      ],
      "metadata": {
        "id": "37GJ99s2HTXy"
      },
      "execution_count": null,
      "outputs": []
    },
    {
      "cell_type": "code",
      "source": [
        "#strip(): elimina todos los caracteres dados desde el principio y el final de la cadena\n",
        "\n",
        "challenge = 'thirty days of pythoonnn'\n",
        "\n",
        "print(challenge.strip('noth')) # 'irty days of py'\n",
        "\n",
        "challenge = 'thirty days of pythoonnn in Pyladies Panama'\n",
        "print(challenge.strip('mnotha')) # 'irty days of py'"
      ],
      "metadata": {
        "id": "0JLvyMwqHsBj"
      },
      "execution_count": null,
      "outputs": []
    },
    {
      "cell_type": "code",
      "source": [
        "#replace(): reemplaza una subcadena en una cadena dada \n",
        "\n",
        "challenge = 'thirty days of python'\n",
        "print(challenge.replace('python', 'coding')) # 'thirty days of coding'"
      ],
      "metadata": {
        "id": "HDs0a2vsJfXk"
      },
      "execution_count": null,
      "outputs": []
    },
    {
      "cell_type": "code",
      "source": [
        "#split(): Divide el string, usando un caracter como separador o espacio\n",
        "\n",
        "challenge = 'thirty days of python'\n",
        "print(challenge.split()) # ['thirty', 'days', 'of', 'python']\n",
        "\n",
        "challenge = 'thirty, days, of, python'\n",
        "print(challenge.split(', ')) # ['thirty', 'days', 'of', 'python']"
      ],
      "metadata": {
        "id": "Z8Zg5fiOJn1e"
      },
      "execution_count": null,
      "outputs": []
    },
    {
      "cell_type": "code",
      "source": [
        "#title(): Regresa el título con la mayúscula  \n",
        "\n",
        "challenge = 'thirty days of python'\n",
        "print(challenge.title()) # Thirty Days Of Python"
      ],
      "metadata": {
        "id": "pASMPPzFJ4rb"
      },
      "execution_count": null,
      "outputs": []
    },
    {
      "cell_type": "code",
      "source": [
        "#swapcase(): Convierte todos los caracteres en mayúsculas a minúsculas y todos los caracteres en minúsculas a caracteres en mayúsculas\n",
        "\n",
        "challenge = 'thirty days of python'\n",
        "print(challenge.swapcase())   # THIRTY DAYS OF PYTHON\n",
        "\n",
        "challenge = 'Thirty Days Of Python'\n",
        "print(challenge.swapcase())  # tHIRTY dAYS oF pYTHON"
      ],
      "metadata": {
        "id": "PWY0veSJKHoW"
      },
      "execution_count": null,
      "outputs": []
    },
    {
      "cell_type": "code",
      "source": [
        "#startswith(): Valida si la cadena incia con una \"cadena\" específica\n",
        "challenge = 'thirty days of python'\n",
        "print(challenge.startswith('thirty')) # True\n",
        "\n",
        "challenge = '30 days of python'\n",
        "print(challenge.startswith('thirty')) # False"
      ],
      "metadata": {
        "id": "ES1RZeIVKRmB"
      },
      "execution_count": null,
      "outputs": []
    }
  ]
}