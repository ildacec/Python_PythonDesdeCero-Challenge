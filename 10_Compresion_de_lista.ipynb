{
  "nbformat": 4,
  "nbformat_minor": 0,
  "metadata": {
    "colab": {
      "provenance": [],
      "include_colab_link": true
    },
    "kernelspec": {
      "name": "python3",
      "display_name": "Python 3"
    },
    "language_info": {
      "name": "python"
    }
  },
  "cells": [
    {
      "cell_type": "markdown",
      "metadata": {
        "id": "view-in-github",
        "colab_type": "text"
      },
      "source": [
        "<a href=\"https://colab.research.google.com/github/ildacec/Python_PythonDesdeCero-Challenge/blob/main/10_Compresion_de_lista.ipynb\" target=\"_parent\"><img src=\"https://colab.research.google.com/assets/colab-badge.svg\" alt=\"Open In Colab\"/></a>"
      ]
    },
    {
      "cell_type": "markdown",
      "source": [
        "Python Desde Cero 🐍\n",
        "\n",
        "Pyladies Panamá 🌻\n",
        "\n",
        "2022\n",
        "\n",
        "Day 7 - PythonDesdeCero Challenge Sábado 1/Octubre/2022\n",
        "\n",
        "Referencia: https://docs.hektorprofe.net/python/funcionalidades-avanzadas/comprension-de-listas/ \n"
      ],
      "metadata": {
        "id": "W4wW_o7iwLun"
      }
    },
    {
      "cell_type": "markdown",
      "source": [
        "El poder de Python🐍 va mucho más allá de lo que a primera vista podemos imaginar.\n",
        "\n",
        "La comprensión de listas, del inglés list comprehensions, es una funcionalidad que nos permite crear listas avanzadas en una misma línea de código. Esto se ve mucho mejor en la práctica, así que a lo largo de esta lección vamos a trabajar distintos ejemplos."
      ],
      "metadata": {
        "id": "DA_afQdd6MhN"
      }
    },
    {
      "cell_type": "markdown",
      "source": [
        "#Crear una lista con las letras de una palabra"
      ],
      "metadata": {
        "id": "1Q2HSxP30lp8"
      }
    },
    {
      "cell_type": "code",
      "source": [
        "# Método tradicional\n",
        "\n",
        "lista = []\n",
        "for letra in 'casa':\n",
        "    lista.append(letra)\n",
        "print(lista)"
      ],
      "metadata": {
        "id": "cGuQffzCwLa1"
      },
      "execution_count": null,
      "outputs": []
    },
    {
      "cell_type": "code",
      "execution_count": null,
      "metadata": {
        "id": "xGSIh74Zv96w"
      },
      "outputs": [],
      "source": [
        "# Con comprensión de listas\n",
        "lista = [letra for letra in 'casa']\n",
        "print(lista)"
      ]
    },
    {
      "cell_type": "markdown",
      "source": [
        "![image.png](data:image/png;base64,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)"
      ],
      "metadata": {
        "id": "AtrrsPBu16P_"
      }
    },
    {
      "cell_type": "markdown",
      "source": [
        "#Crear una lista con las potencias de 2 de los primeros 10 números"
      ],
      "metadata": {
        "id": "k2gRZdp42D84"
      }
    },
    {
      "cell_type": "code",
      "source": [
        "# Método tradicional\n",
        "lista = []\n",
        "for i in range(0,8):\n",
        "    lista.append(i**2)\n",
        "print(lista)"
      ],
      "metadata": {
        "id": "sUWOToTz154l"
      },
      "execution_count": null,
      "outputs": []
    },
    {
      "cell_type": "code",
      "source": [
        "# Con comprensión de listas\n",
        "lista = [i**2 for i in  range(0,8)]\n",
        "print(lista)"
      ],
      "metadata": {
        "id": "nIyzUntQ2L6x"
      },
      "execution_count": null,
      "outputs": []
    },
    {
      "cell_type": "markdown",
      "source": [
        "![image.png](data:image/png;base64,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)"
      ],
      "metadata": {
        "id": "8XjnEt3b3mnE"
      }
    },
    {
      "cell_type": "markdown",
      "source": [
        "# Crear una lista con los todos los múltiples de 2 entre 0 y 10"
      ],
      "metadata": {
        "id": "AEpEEHgH325X"
      }
    },
    {
      "cell_type": "code",
      "source": [
        "# Método tradicional\n",
        "lista = []\n",
        "for numero in range(0,11):\n",
        "    if numero % 2 == 0:\n",
        "        lista.append(numero)\n",
        "print(lista)"
      ],
      "metadata": {
        "id": "wgV1aBe934wP"
      },
      "execution_count": null,
      "outputs": []
    },
    {
      "cell_type": "code",
      "source": [
        "# Con comprensión de listas\n",
        "# 1 línea\n",
        "lista = [numero for numero in range(0,11) if numero % 2 == 0 ]\n",
        "print(lista)"
      ],
      "metadata": {
        "id": "THP9QVwb4RoL"
      },
      "execution_count": null,
      "outputs": []
    },
    {
      "cell_type": "code",
      "source": [
        "# Con comprensión de listas\n",
        "# 2 líneas\n",
        "lista = [numero for numero in range(0,11) \n",
        "          if numero % 2 == 0 ]\n",
        "print(lista)"
      ],
      "metadata": {
        "id": "8dm-BVg75pf-"
      },
      "execution_count": null,
      "outputs": []
    },
    {
      "cell_type": "markdown",
      "source": [
        "# Crear una lista de pares a partir de otra lista creada con las potencias de 2 de los primeros 10 números"
      ],
      "metadata": {
        "id": "dbpnZGG64ibg"
      }
    },
    {
      "cell_type": "code",
      "source": [
        "# Método tradicional\n",
        "lista = []\n",
        "for numero in range(0,11):\n",
        "    lista.append(numero**2)\n",
        "\n",
        "pares = []   \n",
        "for numero in lista:\n",
        "    if numero % 2 == 0:\n",
        "        pares.append(numero)\n",
        "\n",
        "print(pares)"
      ],
      "metadata": {
        "id": "DcWG6Odc4lev"
      },
      "execution_count": null,
      "outputs": []
    },
    {
      "cell_type": "code",
      "source": [
        "# Con comprensión de listas\n",
        "lista = [numero for numero in \n",
        "            [numero**2 for numero in range(0,11)] \n",
        "                if numero % 2 == 0 ]\n",
        "print(lista)"
      ],
      "metadata": {
        "colab": {
          "base_uri": "https://localhost:8080/"
        },
        "id": "iV0f_oxq5bC6",
        "outputId": "bdd45c7d-4bbd-45d9-9a2b-dea0d45d47bf"
      },
      "execution_count": 13,
      "outputs": [
        {
          "output_type": "stream",
          "name": "stdout",
          "text": [
            "[0, 4, 16, 36, 64, 100]\n"
          ]
        }
      ]
    }
  ]
}