{
  "nbformat": 4,
  "nbformat_minor": 0,
  "metadata": {
    "colab": {
      "provenance": [],
      "collapsed_sections": [],
      "authorship_tag": "ABX9TyOAo7lZOI7s8+HFn7+GLV1u",
      "include_colab_link": true
    },
    "kernelspec": {
      "name": "python3",
      "display_name": "Python 3"
    },
    "language_info": {
      "name": "python"
    }
  },
  "cells": [
    {
      "cell_type": "markdown",
      "metadata": {
        "id": "view-in-github",
        "colab_type": "text"
      },
      "source": [
        "<a href=\"https://colab.research.google.com/github/ildacec/Python_PythonDesdeCero-Challenge/blob/main/Original_11_lambda.ipynb\" target=\"_parent\"><img src=\"https://colab.research.google.com/assets/colab-badge.svg\" alt=\"Open In Colab\"/></a>"
      ]
    },
    {
      "cell_type": "markdown",
      "source": [
        "# Python Desde Cero 🐍\n",
        "\n",
        "# Pyladies Panamá 🌻\n",
        "\n",
        "2022\n",
        "\n",
        "Day 8 - PythonDesdeCero Challenge Sábado 8/Octubre/2022\n",
        "\n",
        "Referencia: \n",
        "https://github.com/Asabeneh/30-Days-Of-Python/blob/master/13_Day_List_comprehension/13_list_comprehension.md\n",
        "\n",
        "https://docs.hektorprofe.net/python/funcionalidades-avanzadas/comprension-de-listas/ "
      ],
      "metadata": {
        "id": "UnqGNrwFjS21"
      }
    },
    {
      "cell_type": "markdown",
      "source": [
        "\n",
        "\n",
        "*   La función Lambda es una pequeña función **anónima sin nombre**.\n",
        "\n",
        "Una función anónima, como su nombre indica es una función sin nombre. ¿Es posible ejecutar una función sin referenciar un nombre? Pues sí, en Python podemos ejecutar una función sin definirla con def. De hecho son similares pero con una diferencia fundamental:\n",
        "\n",
        "`El contenido de una función lambda debe ser una única expresión en lugar de un bloque de acciones.`\n",
        "\n",
        "Por tanto podríamos decir que, mientras las funciones anónimas **lambda** sirven para realizar funciones simples, las funciones definidas con def sirven para manejar tareas más extensas.\n",
        "\n",
        "\n"
      ],
      "metadata": {
        "id": "B6mTGnoskDbg"
      }
    },
    {
      "cell_type": "code",
      "source": [
        "#Syntax\n",
        "#lambda arguments : expression\n",
        "\n",
        "#Sumarle a 10 lo que pase el parámetro A\n",
        "lambda a : a + 10\n",
        "\n",
        "x = lambda a : a + 10\n",
        "\n",
        "print(x(5))\n",
        "print(x(15))\n",
        "print(x(50))\n",
        "print(x(55))\n"
      ],
      "metadata": {
        "id": "CfOOZ2UIpZ13",
        "colab": {
          "base_uri": "https://localhost:8080/"
        },
        "outputId": "274bdba3-6014-4cde-e401-6b82e0bec5f9"
      },
      "execution_count": null,
      "outputs": [
        {
          "output_type": "stream",
          "name": "stdout",
          "text": [
            "15\n",
            "25\n",
            "60\n",
            "65\n"
          ]
        }
      ]
    },
    {
      "cell_type": "markdown",
      "source": [
        "# Si deconstruimos una función sencilla, podemos llegar a una función lambda. "
      ],
      "metadata": {
        "id": "pnS-D3vFkoY9"
      }
    },
    {
      "cell_type": "code",
      "source": [
        "#función para doblar un valor:\n",
        "def doblar(num):\n",
        "    resultado = num*2\n",
        "    return resultado\n",
        "\n",
        "#llamado\n",
        "doblar(2)\n",
        "\n",
        "#salida en consola\n",
        "print(doblar(2))\n",
        "print(doblar(9))"
      ],
      "metadata": {
        "id": "KWK_gy7HjSmz",
        "colab": {
          "base_uri": "https://localhost:8080/"
        },
        "outputId": "8c54bbec-ef3b-4a34-b86d-97bf3fa80111"
      },
      "execution_count": null,
      "outputs": [
        {
          "output_type": "stream",
          "name": "stdout",
          "text": [
            "4\n",
            "18\n"
          ]
        }
      ]
    },
    {
      "cell_type": "code",
      "execution_count": null,
      "metadata": {
        "id": "zEIIcZqRjPc5",
        "colab": {
          "base_uri": "https://localhost:8080/"
        },
        "outputId": "13a14654-2246-4ea2-d321-43e5940f9cd9"
      },
      "outputs": [
        {
          "output_type": "stream",
          "name": "stdout",
          "text": [
            "4\n",
            "18\n"
          ]
        }
      ],
      "source": [
        "#Vamos a simplificar el código un poco\n",
        "def doblar(num):\n",
        "    return num*2\n",
        "\n",
        "#llamado\n",
        "doblar(2)\n",
        "\n",
        "#salida en consola\n",
        "print(doblar(2))\n",
        "print(doblar(9))"
      ]
    },
    {
      "cell_type": "code",
      "source": [
        "#Todavía más, podemos escribirlo todo en una sola línea:\n",
        "def doblar(num): return num*2\n",
        "\n",
        "#llamado\n",
        "doblar(2)\n",
        "\n",
        "#salida en consola\n",
        "print(doblar(2))\n",
        "print(doblar(9))"
      ],
      "metadata": {
        "id": "UyGXoN1WlInS",
        "colab": {
          "base_uri": "https://localhost:8080/"
        },
        "outputId": "0ad070fa-d91d-43eb-e22d-575c684b3603"
      },
      "execution_count": null,
      "outputs": [
        {
          "output_type": "stream",
          "name": "stdout",
          "text": [
            "4\n",
            "18\n"
          ]
        }
      ]
    },
    {
      "cell_type": "code",
      "source": [
        "\"\"\"Esta notación simple es la que una función lambda intenta replicar,\n",
        "vamos a convertir la función en una función anónima\"\"\"\n",
        "\n",
        "#lambda num: num*2\n",
        "\n",
        "cos = lambda num: num*2\n",
        "#llamado\n",
        "cos(2)\n",
        "\n",
        "#salida en consola\n",
        "print(cos(2))\n",
        "print(cos(45))"
      ],
      "metadata": {
        "id": "XLut8QOOlXZu",
        "colab": {
          "base_uri": "https://localhost:8080/"
        },
        "outputId": "4210eca5-fd1a-4419-ad97-ce2becce0aeb"
      },
      "execution_count": null,
      "outputs": [
        {
          "output_type": "stream",
          "name": "stdout",
          "text": [
            "4\n",
            "90\n"
          ]
        }
      ]
    },
    {
      "cell_type": "code",
      "source": [
        "#Gracias a la flexibilidad de Python podemos implementar infinitas funciones simples.\n",
        "impar = lambda num: num%2 != 0\n",
        "\n",
        "impar(10)"
      ],
      "metadata": {
        "id": "WR-SrrJ9lczV",
        "colab": {
          "base_uri": "https://localhost:8080/"
        },
        "outputId": "9d6be513-083b-4908-8060-87e7e2266db1"
      },
      "execution_count": null,
      "outputs": [
        {
          "output_type": "execute_result",
          "data": {
            "text/plain": [
              "False"
            ]
          },
          "metadata": {},
          "execution_count": 17
        }
      ]
    },
    {
      "cell_type": "code",
      "source": [
        "#Darle la vuelta a una cadena utilizando slicing:\n",
        "\n",
        "revertir = lambda cadena: cadena[::-1]\n",
        "\n",
        "revertir(\"Hola\")"
      ],
      "metadata": {
        "id": "YU8RObVll6ZY",
        "colab": {
          "base_uri": "https://localhost:8080/",
          "height": 36
        },
        "outputId": "8ef50dd8-48c4-412c-df96-44d04a7f72c1"
      },
      "execution_count": null,
      "outputs": [
        {
          "output_type": "execute_result",
          "data": {
            "text/plain": [
              "'aloH'"
            ],
            "application/vnd.google.colaboratory.intrinsic+json": {
              "type": "string"
            }
          },
          "metadata": {},
          "execution_count": 18
        }
      ]
    },
    {
      "cell_type": "markdown",
      "source": [
        "# Múltiples variables"
      ],
      "metadata": {
        "id": "6hA7kVWvmL5N"
      }
    },
    {
      "cell_type": "code",
      "source": [
        "# Multiples variables\n",
        "multiple_variable = lambda a, b, c: a ** 2 - 3 * b + 4 * c\n",
        "\n",
        "print(multiple_variable(5, 5, 3)) # 22"
      ],
      "metadata": {
        "id": "DuZ8BD-umR06",
        "colab": {
          "base_uri": "https://localhost:8080/"
        },
        "outputId": "cb33d810-6f26-4cbb-ba22-d6750e87918e"
      },
      "execution_count": null,
      "outputs": [
        {
          "output_type": "stream",
          "name": "stdout",
          "text": [
            "22\n"
          ]
        }
      ]
    },
    {
      "cell_type": "code",
      "source": [
        "#Por ejemplo para sumar dos números:\n",
        "sumar = lambda x,y: x+y\n",
        "\n",
        "sumar(5,2)"
      ],
      "metadata": {
        "id": "IMXX0_inl_4A",
        "colab": {
          "base_uri": "https://localhost:8080/"
        },
        "outputId": "38438bc8-61da-4b92-decd-07ee1e21223a"
      },
      "execution_count": null,
      "outputs": [
        {
          "output_type": "execute_result",
          "data": {
            "text/plain": [
              "7"
            ]
          },
          "metadata": {},
          "execution_count": 20
        }
      ]
    },
    {
      "cell_type": "code",
      "source": [
        "#Intermedio\n",
        "lambda_func = lambda x: True if x**2 >= 10 else False\n",
        "\n",
        "lambda_func(3) # Retorna False\n",
        "lambda_func(4) # Retorna True\n"
      ],
      "metadata": {
        "id": "dT86PoWWqDAa",
        "colab": {
          "base_uri": "https://localhost:8080/"
        },
        "outputId": "6e42ce58-2fe1-41d8-bf45-d929e18d7b1c"
      },
      "execution_count": null,
      "outputs": [
        {
          "output_type": "execute_result",
          "data": {
            "text/plain": [
              "True"
            ]
          },
          "metadata": {},
          "execution_count": 22
        }
      ]
    },
    {
      "cell_type": "code",
      "source": [
        "lambda_func = lambda x: 'Es mayor que 10' if x**2 >= 10 else 'No es mayor que 10'\n",
        "\n",
        "lambda_func(3) # Retorna False\n",
        "lambda_func(4) # Retorna True"
      ],
      "metadata": {
        "colab": {
          "base_uri": "https://localhost:8080/",
          "height": 36
        },
        "id": "-HBzTMOuRLdX",
        "outputId": "1587ef95-1baf-4bfd-bc92-18d58568a604"
      },
      "execution_count": null,
      "outputs": [
        {
          "output_type": "execute_result",
          "data": {
            "text/plain": [
              "'Es mayor que 10 4'"
            ],
            "application/vnd.google.colaboratory.intrinsic+json": {
              "type": "string"
            }
          },
          "metadata": {},
          "execution_count": 25
        }
      ]
    },
    {
      "cell_type": "code",
      "source": [
        "lambda_func = lambda x: f'{x**2} es mayor que 10 ' if x**2 >= 10 else 'No es mayor que 10'\n",
        "\n",
        "lambda_func(4) # Retorna True"
      ],
      "metadata": {
        "colab": {
          "base_uri": "https://localhost:8080/",
          "height": 36
        },
        "id": "rIStg5-GRnPB",
        "outputId": "97215561-ae62-419d-a34c-df95cfc39d6d"
      },
      "execution_count": null,
      "outputs": [
        {
          "output_type": "execute_result",
          "data": {
            "text/plain": [
              "'16 es mayor que 10 '"
            ],
            "application/vnd.google.colaboratory.intrinsic+json": {
              "type": "string"
            }
          },
          "metadata": {},
          "execution_count": 28
        }
      ]
    },
    {
      "cell_type": "code",
      "source": [
        "\n",
        "format_numeric = lambda num: f\"{num:e}\" if isinstance(num, int) else f\"{num:,.2f}\"\n",
        " \n",
        "print(\"Int formatting:\", format_numeric(1000000))\n",
        "print(\"float formatting:\", format_numeric(999999.789541235))"
      ],
      "metadata": {
        "colab": {
          "base_uri": "https://localhost:8080/"
        },
        "id": "U6HPEiU6q6cc",
        "outputId": "4bfdaec3-4336-4c5b-c2bc-7cf73f6a81ff"
      },
      "execution_count": null,
      "outputs": [
        {
          "output_type": "stream",
          "name": "stdout",
          "text": [
            "Int formatting: 1.000000e+06\n",
            "float formatting: 999,999.79\n"
          ]
        }
      ]
    },
    {
      "cell_type": "markdown",
      "source": [
        "# Problema 1"
      ],
      "metadata": {
        "id": "aZojgB_DradN"
      }
    },
    {
      "cell_type": "code",
      "source": [
        "is_even_list = [lambda arg = x: arg * 10 for x in range(1, 5)]\n",
        " \n",
        "# iterate on each lambda function\n",
        "# and invoke the function to get the calculated value\n",
        "for item in is_even_list:\n",
        "    print(item())"
      ],
      "metadata": {
        "id": "6frgEa5UrZw8",
        "colab": {
          "base_uri": "https://localhost:8080/"
        },
        "outputId": "76e04578-f0e0-4fa4-cf13-c1ab01473b2b"
      },
      "execution_count": null,
      "outputs": [
        {
          "output_type": "stream",
          "name": "stdout",
          "text": [
            "10\n",
            "20\n",
            "30\n",
            "40\n"
          ]
        }
      ]
    },
    {
      "cell_type": "markdown",
      "source": [
        "# Problema 2"
      ],
      "metadata": {
        "id": "fgyDNvhDrgJq"
      }
    },
    {
      "cell_type": "code",
      "source": [
        "# Example of lambda function using if-else\n",
        "Max = lambda a, b : f'{a} es mayor que {b}' if(a > b) else f'{a} es menor que {b}'\n",
        " \n",
        "print(Max(1, 2))\n",
        "\n",
        "print(Max(9, 2))"
      ],
      "metadata": {
        "id": "pgUUKVw6riei",
        "colab": {
          "base_uri": "https://localhost:8080/"
        },
        "outputId": "1d54342a-2f16-4b1a-c332-468dea4b9186"
      },
      "execution_count": null,
      "outputs": [
        {
          "output_type": "stream",
          "name": "stdout",
          "text": [
            "1 es menor que 2\n",
            "9 es mayor que 2\n"
          ]
        }
      ]
    },
    {
      "cell_type": "markdown",
      "source": [
        "# Problema 3\n",
        "\n",
        "Crea un script en Python que use lambda para hacer la siguiente \n",
        "\n",
        "**Fórmula** = (x+y) * z\n",
        "\n",
        "Que los 3 valores sean pasados por argumentos"
      ],
      "metadata": {
        "id": "_eFivSzmvAb3"
      }
    },
    {
      "cell_type": "code",
      "source": [
        "variable_fun = lambda x, y, z: (x+y) * z\n",
        "\n",
        "print(variable_fun(5,3,10))"
      ],
      "metadata": {
        "id": "LpvHvd78u_1s",
        "colab": {
          "base_uri": "https://localhost:8080/"
        },
        "outputId": "afd8e29b-bc4b-4b04-bc09-d23d8689a024"
      },
      "execution_count": null,
      "outputs": [
        {
          "output_type": "stream",
          "name": "stdout",
          "text": [
            "80\n"
          ]
        }
      ]
    },
    {
      "cell_type": "markdown",
      "source": [
        "# Función Filter\n",
        "Es una biblioteca incorporada de Python que devuelve solo aquellos valores que se ajustan a ciertos criterios. \n",
        "\n",
        "La sintaxis es **filter**(**`function`**, ***`iterable`***). \n",
        "\n",
        "El iterable puede ser cualquier secuencia, como una lista, un conjunto o un objeto de serie (más abajo).\n"
      ],
      "metadata": {
        "id": "zr4M8x1apKgk"
      }
    },
    {
      "cell_type": "code",
      "source": [
        "#Desarrollo tradicional\n",
        "valores = [1, 2, 3, 4, 5, 6, 7, 8, 9]\n",
        "pares = []\n",
        "\n",
        "for valor in valores:\n",
        "    if valor % 2 == 0:\n",
        "        pares.append(valor)\n",
        "\n",
        "print(pares)"
      ],
      "metadata": {
        "id": "F-JLSAAIsWNB",
        "colab": {
          "base_uri": "https://localhost:8080/"
        },
        "outputId": "7f557074-2a7c-4bf2-c0ac-626a41cb98d5"
      },
      "execution_count": null,
      "outputs": [
        {
          "output_type": "stream",
          "name": "stdout",
          "text": [
            "[2, 4, 6, 8]\n"
          ]
        }
      ]
    },
    {
      "cell_type": "code",
      "source": [
        "#Usando Lambda\n",
        "valores = [1,2,3,4,5,6,7,8,9]\n",
        "pares= list(filter(lambda x: x%2==0, valores))\n",
        "\n",
        "print(pares)"
      ],
      "metadata": {
        "id": "-dyu4Qj2pcoz",
        "colab": {
          "base_uri": "https://localhost:8080/"
        },
        "outputId": "5c67539d-47f8-4624-f03f-3c8153903ea5"
      },
      "execution_count": null,
      "outputs": [
        {
          "output_type": "stream",
          "name": "stdout",
          "text": [
            "[2, 4, 6, 8]\n"
          ]
        }
      ]
    },
    {
      "cell_type": "markdown",
      "source": [
        "# Problema 4\n",
        "\n",
        "Crea un programa en Pyhon que a partir de nombre dados, que filtre solo los nombres que empiecen con A.\n",
        "\n",
        "lista = [\"Alejandra\",\"Juan\",\"Maria\",\"Alfonso\"]"
      ],
      "metadata": {
        "id": "4eakQVUArrMl"
      }
    },
    {
      "cell_type": "code",
      "source": [
        "lista = [\"Alejandra\",\"Juan\",\"Maria\",\"Alfonso\"]\n",
        "\n",
        "variable_nueva = list(filter(lambda nombre : nombre[0] == 'A',lista))\n",
        "\n",
        "print(variable_nueva)\n"
      ],
      "metadata": {
        "id": "ONEZR7o_swZr",
        "colab": {
          "base_uri": "https://localhost:8080/"
        },
        "outputId": "7a91cd42-fc73-455b-a54a-dbcc0ed18f6e"
      },
      "execution_count": null,
      "outputs": [
        {
          "output_type": "stream",
          "name": "stdout",
          "text": [
            "['Alejandra', 'Alfonso']\n"
          ]
        }
      ]
    },
    {
      "cell_type": "markdown",
      "source": [
        "# Función Map()\n",
        "\n",
        "La función map() en Python aplica una función a cada uno de los elementos de una lista.\n",
        "\n",
        "> **map**(**`una_funcion`**, **`una_lista`**)\n",
        "\n"
      ],
      "metadata": {
        "id": "XND878BsqRC7"
      }
    },
    {
      "cell_type": "code",
      "source": [
        "'''Imagina que tienes una lista de enteros y quieres obtener una nueva lista con el cuadrado de cada uno de ellos.\n",
        "Seguramente, lo primero que se te ha ocurrido es algo similar a lo siguiente:'''\n",
        "\n",
        "enteros = [1, 2, 4, 7]\n",
        "cuadrados = []\n",
        "for e in enteros:\n",
        "    cuadrados.append(e ** 2)\n",
        "     \n",
        "print(cuadrados)"
      ],
      "metadata": {
        "id": "mbTWglquqxll",
        "colab": {
          "base_uri": "https://localhost:8080/"
        },
        "outputId": "546813da-3daa-410e-e504-fb1dceb30f32"
      },
      "execution_count": null,
      "outputs": [
        {
          "output_type": "stream",
          "name": "stdout",
          "text": [
            "[1, 4, 16, 49]\n"
          ]
        }
      ]
    },
    {
      "cell_type": "code",
      "source": [
        "'''Sin embargo, podemos usar una función anónima en combinación con map() \n",
        "para obtener el mismo resultado de una manera mucho más simple:'''\n",
        "\n",
        "enteros = [1, 2, 4, 7]\n",
        "cuadrados = list(map(lambda x : x ** 2, enteros))\n",
        "\n",
        "print(cuadrados)"
      ],
      "metadata": {
        "id": "oz815e3SrLGS",
        "colab": {
          "base_uri": "https://localhost:8080/"
        },
        "outputId": "0c6b6120-6135-41b3-fb98-35096a6868e4"
      },
      "execution_count": null,
      "outputs": [
        {
          "output_type": "stream",
          "name": "stdout",
          "text": [
            "[1, 4, 16, 49]\n"
          ]
        }
      ]
    },
    {
      "cell_type": "code",
      "source": [
        "# El siguiente ejemplo reduce al cubo todos los números de la lista.\n",
        "\n",
        "list_1 = [1,2,3,4,5,6,7,8,9]\n",
        "cubed = list(map(lambda x: pow(x,3), list_1))\n",
        "\n",
        "print(cubed)"
      ],
      "metadata": {
        "id": "5MycdbTxrtMB",
        "colab": {
          "base_uri": "https://localhost:8080/"
        },
        "outputId": "3d783dbb-a068-467d-a742-06e95d217cd4"
      },
      "execution_count": null,
      "outputs": [
        {
          "output_type": "stream",
          "name": "stdout",
          "text": [
            "[1, 8, 27, 64, 125, 216, 343, 512, 729]\n"
          ]
        }
      ]
    },
    {
      "cell_type": "code",
      "source": [
        "\"\"\"La cosa se vuelve todavía más interesante cuando, en lugar de una lista de valores, \n",
        "pasamos como segundo parámetro una lista de funciones: \"\"\"\n",
        "\n",
        "enteros = [1, 2, 4, 7]\n",
        "\n",
        "def cuadrado(x):\n",
        "    return x ** 2\n",
        "\n",
        "def cubo(x):\n",
        "    return x ** 3\n",
        "\n",
        "funciones = [cuadrado, cubo]\n",
        "for e in enteros:\n",
        "    valores = list(map(lambda x : x(e), funciones))\n",
        "    print(valores)\n"
      ],
      "metadata": {
        "id": "cU1Wf3HLsH1z",
        "colab": {
          "base_uri": "https://localhost:8080/"
        },
        "outputId": "e4cc2acd-c7be-4eec-d877-e0e998d8995c"
      },
      "execution_count": null,
      "outputs": [
        {
          "output_type": "stream",
          "name": "stdout",
          "text": [
            "[1, 1]\n",
            "[4, 8]\n",
            "[16, 64]\n",
            "[49, 343]\n"
          ]
        }
      ]
    },
    {
      "cell_type": "code",
      "source": [
        "enteros = [1, 2, 4, 7]\n",
        "\n",
        "enteros_2 = [5, 10]\n",
        "\n",
        "funciones = [enteros, enteros_2]\n",
        "\n",
        "#print(funciones)\n",
        "for e in enteros:\n",
        "    valores = list(map(lambda x : x * e, funciones))\n",
        "    print(valores)"
      ],
      "metadata": {
        "colab": {
          "base_uri": "https://localhost:8080/"
        },
        "id": "EPjUMO-mUBc_",
        "outputId": "02e13459-5805-4d48-f54a-61c354bd98f6"
      },
      "execution_count": null,
      "outputs": [
        {
          "output_type": "stream",
          "name": "stdout",
          "text": [
            "[[1, 2, 4, 7], [5, 10]]\n",
            "[[1, 2, 4, 7, 1, 2, 4, 7], [5, 10, 5, 10]]\n",
            "[[1, 2, 4, 7, 1, 2, 4, 7, 1, 2, 4, 7, 1, 2, 4, 7], [5, 10, 5, 10, 5, 10, 5, 10]]\n",
            "[[1, 2, 4, 7, 1, 2, 4, 7, 1, 2, 4, 7, 1, 2, 4, 7, 1, 2, 4, 7, 1, 2, 4, 7, 1, 2, 4, 7], [5, 10, 5, 10, 5, 10, 5, 10, 5, 10, 5, 10, 5, 10]]\n"
          ]
        }
      ]
    },
    {
      "cell_type": "markdown",
      "source": [
        "#Problema 5\n",
        "Para la clase dada abajo, cree un programa que le permita imprimir en una función lambda, solo los nombres de la personas mayores de edad\n"
      ],
      "metadata": {
        "id": "rxUcRdieyjkk"
      }
    },
    {
      "cell_type": "code",
      "source": [
        "class Persona:\n",
        "\n",
        "    def __init__(self, nombre, edad):\n",
        "        self.nombre = nombre\n",
        "        self.edad = edad\n",
        "\n",
        "    def __str__(self):\n",
        "        return \"{} de {} años\".format(self.nombre, self.edad)\n",
        "\n",
        "\n",
        "personas_list = [\n",
        "    Persona(\"Juan\", 35),\n",
        "    Persona(\"Marta\", 16),\n",
        "    Persona(\"Manuel\", 78),\n",
        "    Persona(\"Eduardo\", 12)\n",
        "]"
      ],
      "metadata": {
        "id": "kgkaE7uGwfL6"
      },
      "execution_count": null,
      "outputs": []
    },
    {
      "cell_type": "code",
      "source": [
        "#Personas.nombre\n",
        "#Personas.edad\n",
        "\n",
        "#Condición = personas mayores de edad\n",
        "#Personas.edad > 18\n",
        "\n",
        "#Imprimir\n",
        "#Personas\n",
        "\n",
        "#result = list(map(lambda Personas : Personas.edad > 18, personas_list))\n",
        "\n",
        "\n",
        "'''Persona(\"Juan\", 35),\n",
        "    Persona(\"Marta\", 16),\n",
        "    Persona(\"Manuel\", 78),\n",
        "    Persona(\"Eduardo\", 12) '''\n",
        "\n",
        "result = filter(lambda Personas : Personas.edad > 18, personas_list)\n",
        "#Persona(\"Juan\", 35)\n",
        "#Persona(\"Manuel\", 78)\n",
        "\n",
        "for i in result: \n",
        "  print(i)\n",
        "  # return \"{} de {} años\".format(self.nombre, self.edad)\n"
      ],
      "metadata": {
        "id": "o8vh5qbQ0yO7",
        "colab": {
          "base_uri": "https://localhost:8080/"
        },
        "outputId": "789c69d3-1695-4587-f17b-ba5ce604c405"
      },
      "execution_count": null,
      "outputs": [
        {
          "output_type": "stream",
          "name": "stdout",
          "text": [
            "Juan de 35 años\n",
            "Manuel de 78 años\n"
          ]
        }
      ]
    },
    {
      "cell_type": "code",
      "source": [
        "for x in map(lambda x: x if x.edad >= 18 else None, personas_list): print(x)"
      ],
      "metadata": {
        "colab": {
          "base_uri": "https://localhost:8080/"
        },
        "id": "wP8KBpmmcDsA",
        "outputId": "5b23f55f-9bc3-4595-fac7-7acec2135bbf"
      },
      "execution_count": null,
      "outputs": [
        {
          "output_type": "stream",
          "name": "stdout",
          "text": [
            "Juan de 35 años\n",
            "None\n",
            "Manuel de 78 años\n",
            "None\n"
          ]
        }
      ]
    },
    {
      "cell_type": "markdown",
      "source": [
        "# Función **reduce()**\n",
        "La última función de esta serie que vamos a ver es la función reduce(). \n",
        "\n",
        "Esta función se utiliza principalmente para llevar a cabo un cálculo acumulativo sobre una lista de valores y devolver el resultado.\n",
        "\n",
        "La función reduce() está incluida en el módulo **functools**.\n",
        "\n",
        "**reduce**(**`función`**, **`iterable`**)\n",
        "\n",
        "![image.png](data:image/png;base64,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)"
      ],
      "metadata": {
        "id": "2ovDqNMwtUCV"
      }
    },
    {
      "cell_type": "code",
      "source": [
        "'''Imagina que quieres obtener el resultado de sumar todos los elementos de una lista.\n",
        "Como en las veces anteriores, la suma la puedes calcular de la siguiente manera:'''\n",
        "\n",
        "valores = [2, 4, 6, 5, 4]\n",
        "suma = 0\n",
        "for el in valores:\n",
        "    suma += el\n",
        "    #suma = suma + el\n",
        "print(suma)"
      ],
      "metadata": {
        "id": "05x1rwMfth7s",
        "colab": {
          "base_uri": "https://localhost:8080/"
        },
        "outputId": "aa4b6e32-14a8-4552-a87c-9f4f6ac3fa3c"
      },
      "execution_count": null,
      "outputs": [
        {
          "output_type": "stream",
          "name": "stdout",
          "text": [
            "21\n"
          ]
        }
      ]
    },
    {
      "cell_type": "code",
      "source": [
        "#Pero también usando la función reduce() en combinación con una función lambda:\n",
        "\n",
        "#importamos la función\n",
        "from functools import reduce # Esto es necesario si se está usando Python 3\n",
        "\n",
        "suma = reduce(lambda x, y: x + y, valores)\n",
        "print(suma)"
      ],
      "metadata": {
        "id": "SCb0uzQFtmX-",
        "colab": {
          "base_uri": "https://localhost:8080/"
        },
        "outputId": "30112536-09ea-4142-9f62-92729ba79826"
      },
      "execution_count": null,
      "outputs": [
        {
          "output_type": "stream",
          "name": "stdout",
          "text": [
            "21\n"
          ]
        }
      ]
    },
    {
      "cell_type": "code",
      "source": [
        "from functools import reduce  # Esto es necesario si se está usando Python 3\n",
        "\n",
        "lista = [2,4,6,8]\n",
        "a = reduce(lambda x,y: x-y, lista)\n",
        "print(a)"
      ],
      "metadata": {
        "id": "6VqtM1BTuL-S",
        "colab": {
          "base_uri": "https://localhost:8080/"
        },
        "outputId": "4458b7df-ce28-492b-e33d-3064ad29ce55"
      },
      "execution_count": null,
      "outputs": [
        {
          "output_type": "stream",
          "name": "stdout",
          "text": [
            "-16\n"
          ]
        }
      ]
    },
    {
      "cell_type": "markdown",
      "source": [
        "#Problema 6\n",
        "\n",
        "Cree un script en python que le permita el acumulativo de una  multiplicación de elementos de una lista\n",
        "\n",
        "a = [1, 2, 3, 4, 5]"
      ],
      "metadata": {
        "id": "-gj07ibL1Gfv"
      }
    },
    {
      "cell_type": "code",
      "source": [
        "a = [1, 2, 3, 4, 5]\n",
        "\n",
        "reduce(lambda x, y : x * y, a)\n"
      ],
      "metadata": {
        "id": "Ve-j13M71lxs",
        "colab": {
          "base_uri": "https://localhost:8080/"
        },
        "outputId": "75c0c48d-38eb-4619-c2a9-15c9b6e1dba4"
      },
      "execution_count": null,
      "outputs": [
        {
          "output_type": "execute_result",
          "data": {
            "text/plain": [
              "120"
            ]
          },
          "metadata": {},
          "execution_count": 31
        }
      ]
    }
  ]
}