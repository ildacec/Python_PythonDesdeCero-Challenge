{
  "cells": [
    {
      "cell_type": "markdown",
      "metadata": {
        "id": "view-in-github",
        "colab_type": "text"
      },
      "source": [
        "<a href=\"https://colab.research.google.com/github/ildacec/Python_PythonDesdeCero-Challenge/blob/main/3_Operadores_p.ipynb\" target=\"_parent\"><img src=\"https://colab.research.google.com/assets/colab-badge.svg\" alt=\"Open In Colab\"/></a>"
      ]
    },
    {
      "cell_type": "markdown",
      "source": [
        "# Python Desde Cero 🐍\n",
        "\n",
        "Pyladies Panamá 🌻\n",
        "\n",
        "2022\n",
        "\n",
        "---\n",
        "\n",
        "Day 1 - PythonDesdeCero Challenge\n",
        "\n",
        "---\n"
      ],
      "metadata": {
        "id": "k9MUkHTOdXLD"
      }
    },
    {
      "cell_type": "markdown",
      "metadata": {
        "id": "ETCnWOO7qyo-"
      },
      "source": [
        "# Operadores Aritméticos\n",
        "| Símbolo | Descripción | \n",
        "| --- | --- |\n",
        "| + | Suma |\n",
        "| – | Resta |\n",
        "| * | Multiplicación |\n",
        "| / | División |\n",
        "| //| Cociente (Retorna el entero: 5/2 = 2) |\n",
        "| % | Módulo (Retorna el resudio del problema: 5%2=1) |\n",
        "|** | Exponente (4**2 = 16) |\n",
        "\n"
      ]
    },
    {
      "cell_type": "code",
      "execution_count": 1,
      "metadata": {
        "id": "Rjkkn0dgqypC",
        "colab": {
          "base_uri": "https://localhost:8080/"
        },
        "outputId": "0bab1341-c4c0-4a4f-82c3-70dd8e461039"
      },
      "outputs": [
        {
          "output_type": "execute_result",
          "data": {
            "text/plain": [
              "8"
            ]
          },
          "metadata": {},
          "execution_count": 1
        }
      ],
      "source": [
        "#Addition\n",
        "\n",
        "3 + 5"
      ]
    },
    {
      "cell_type": "code",
      "execution_count": 2,
      "metadata": {
        "id": "p3Xlf2e0qypD",
        "colab": {
          "base_uri": "https://localhost:8080/"
        },
        "outputId": "87bcc88e-d7ab-481c-950d-89b26b0bedb3"
      },
      "outputs": [
        {
          "output_type": "execute_result",
          "data": {
            "text/plain": [
              "8"
            ]
          },
          "metadata": {},
          "execution_count": 2
        }
      ],
      "source": [
        "# Subtraction\n",
        "\n",
        "54 - 46"
      ]
    },
    {
      "cell_type": "code",
      "execution_count": 3,
      "metadata": {
        "id": "YsRGBtwzqypE",
        "colab": {
          "base_uri": "https://localhost:8080/"
        },
        "outputId": "c478d9cb-d5f3-4340-b33b-29a1a06035df"
      },
      "outputs": [
        {
          "output_type": "execute_result",
          "data": {
            "text/plain": [
              "6"
            ]
          },
          "metadata": {},
          "execution_count": 3
        }
      ],
      "source": [
        "# Multiplication\n",
        "\n",
        "2 * 3"
      ]
    },
    {
      "cell_type": "code",
      "execution_count": 4,
      "metadata": {
        "id": "OgLQ3cn7qypF",
        "colab": {
          "base_uri": "https://localhost:8080/"
        },
        "outputId": "84579984-e720-40d1-e542-f2e93d5cee92"
      },
      "outputs": [
        {
          "output_type": "execute_result",
          "data": {
            "text/plain": [
              "5.0"
            ]
          },
          "metadata": {},
          "execution_count": 4
        }
      ],
      "source": [
        "# Division\n",
        "\n",
        "35 / 7"
      ]
    },
    {
      "cell_type": "code",
      "source": [
        "35 // 7 "
      ],
      "metadata": {
        "id": "SiHTpDZ8V0DI",
        "colab": {
          "base_uri": "https://localhost:8080/"
        },
        "outputId": "bd2a628c-b73d-4711-873c-45fef98dc437"
      },
      "execution_count": 5,
      "outputs": [
        {
          "output_type": "execute_result",
          "data": {
            "text/plain": [
              "5"
            ]
          },
          "metadata": {},
          "execution_count": 5
        }
      ]
    },
    {
      "cell_type": "code",
      "source": [
        "35 % 7 "
      ],
      "metadata": {
        "id": "JVYS6Nx2V-3j",
        "colab": {
          "base_uri": "https://localhost:8080/"
        },
        "outputId": "8adfb80d-2f5f-43d4-8239-e3f981fcc511"
      },
      "execution_count": 6,
      "outputs": [
        {
          "output_type": "execute_result",
          "data": {
            "text/plain": [
              "0"
            ]
          },
          "metadata": {},
          "execution_count": 6
        }
      ]
    },
    {
      "cell_type": "code",
      "execution_count": 7,
      "metadata": {
        "id": "v_5MNQfrqypF",
        "colab": {
          "base_uri": "https://localhost:8080/",
          "height": 165
        },
        "outputId": "36f2ae2c-8f82-4491-e0dd-46a74099455f"
      },
      "outputs": [
        {
          "output_type": "error",
          "ename": "TypeError",
          "evalue": "ignored",
          "traceback": [
            "\u001b[0;31m---------------------------------------------------------------------------\u001b[0m",
            "\u001b[0;31mTypeError\u001b[0m                                 Traceback (most recent call last)",
            "\u001b[0;32m<ipython-input-7-71b4a242f358>\u001b[0m in \u001b[0;36m<module>\u001b[0;34m()\u001b[0m\n\u001b[0;32m----> 1\u001b[0;31m \u001b[0;34m\"Hola\"\u001b[0m\u001b[0;34m+\u001b[0m\u001b[0;36m20\u001b[0m\u001b[0;34m\u001b[0m\u001b[0;34m\u001b[0m\u001b[0m\n\u001b[0m",
            "\u001b[0;31mTypeError\u001b[0m: can only concatenate str (not \"int\") to str"
          ]
        }
      ],
      "source": [
        "#No se puede hacer operaciones con string y integer \n",
        "\"Hola\"+20"
      ]
    },
    {
      "cell_type": "code",
      "execution_count": 8,
      "metadata": {
        "id": "ZwOCBjfDqypF",
        "colab": {
          "base_uri": "https://localhost:8080/",
          "height": 35
        },
        "outputId": "8a60222a-0d53-495b-9eba-1d05b3ce361c"
      },
      "outputs": [
        {
          "output_type": "execute_result",
          "data": {
            "text/plain": [
              "'Hola20'"
            ],
            "application/vnd.google.colaboratory.intrinsic+json": {
              "type": "string"
            }
          },
          "metadata": {},
          "execution_count": 8
        }
      ],
      "source": [
        "#Concatena\n",
        "\"Hola\"+\"20\""
      ]
    },
    {
      "cell_type": "code",
      "execution_count": 9,
      "metadata": {
        "id": "1Z1VqfMeqypG",
        "colab": {
          "base_uri": "https://localhost:8080/",
          "height": 35
        },
        "outputId": "0fb14c0d-c9f8-45ea-98c0-9ce306170779"
      },
      "outputs": [
        {
          "output_type": "execute_result",
          "data": {
            "text/plain": [
              "'HolaHolaHolaHolaHola'"
            ],
            "application/vnd.google.colaboratory.intrinsic+json": {
              "type": "string"
            }
          },
          "metadata": {},
          "execution_count": 9
        }
      ],
      "source": [
        "\"Hola\" * 5"
      ]
    },
    {
      "cell_type": "markdown",
      "metadata": {
        "id": "kzRTTMAqqypG"
      },
      "source": [
        "# Comparison Operators\n",
        "\n",
        "\n",
        "---\n",
        "| Operador | Nombre | Ejemplo |\n",
        "| --- | --- | --- |\t\n",
        "| == |\tIgual\t| x == y = False\n",
        "| != |\tDistinto |\tx != y = True\n",
        "| >\t | Mayor |\tx > y = False\n",
        "| < |\tMenor\t| x < y = True\n",
        "| >=\t| Mayor o igual |\tx >= y = False\n",
        "|<=\t|Menor o igual |\tx <= y = True"
      ]
    },
    {
      "cell_type": "code",
      "execution_count": 10,
      "metadata": {
        "id": "uJnogITaqypH",
        "colab": {
          "base_uri": "https://localhost:8080/"
        },
        "outputId": "0c05c04d-7084-4842-c334-9d74e708d20a"
      },
      "outputs": [
        {
          "output_type": "execute_result",
          "data": {
            "text/plain": [
              "True"
            ]
          },
          "metadata": {},
          "execution_count": 10
        }
      ],
      "source": [
        "# Mayor que\n",
        "\n",
        "45 > 34"
      ]
    },
    {
      "cell_type": "code",
      "execution_count": 11,
      "metadata": {
        "id": "95xbE72sqypH",
        "colab": {
          "base_uri": "https://localhost:8080/"
        },
        "outputId": "7d784fdd-b633-4643-855b-c22846926ec8"
      },
      "outputs": [
        {
          "output_type": "execute_result",
          "data": {
            "text/plain": [
              "False"
            ]
          },
          "metadata": {},
          "execution_count": 11
        }
      ],
      "source": [
        "# Menor que\n",
        "\n",
        "56 < 23"
      ]
    },
    {
      "cell_type": "code",
      "execution_count": 12,
      "metadata": {
        "id": "7XFEvRygqypI",
        "colab": {
          "base_uri": "https://localhost:8080/"
        },
        "outputId": "bff05b6b-da5d-4cd7-aacf-3c637caf34d5"
      },
      "outputs": [
        {
          "output_type": "execute_result",
          "data": {
            "text/plain": [
              "False"
            ]
          },
          "metadata": {},
          "execution_count": 12
        }
      ],
      "source": [
        "34 * 34 < 45*23"
      ]
    },
    {
      "cell_type": "code",
      "execution_count": 13,
      "metadata": {
        "id": "yP6c9doXqypI",
        "colab": {
          "base_uri": "https://localhost:8080/"
        },
        "outputId": "975fd171-cc4a-4e65-b1da-12421e1a272e"
      },
      "outputs": [
        {
          "output_type": "execute_result",
          "data": {
            "text/plain": [
              "True"
            ]
          },
          "metadata": {},
          "execution_count": 13
        }
      ],
      "source": [
        "45 == 45"
      ]
    },
    {
      "cell_type": "markdown",
      "metadata": {
        "id": "qUaI4jCsqypI"
      },
      "source": [
        "# Logical Operators\n",
        "\n",
        "\n",
        "---\n",
        "\n",
        "|Operador | \tNombre| \tEjemplo |\n",
        "| --- | --- | --- |\n",
        "|and\t| Devuelve True si ambos elementos son True\t| True and True = True|\n",
        "|or\t| Devuelve True si al menos un elemento es True | \tTrue or False = True|\n",
        "|not |\tDevuelve el contrario, True si es Falso y viceversa\t| not True = False|"
      ]
    },
    {
      "cell_type": "code",
      "execution_count": 14,
      "metadata": {
        "id": "tOzWwa_DqypJ",
        "colab": {
          "base_uri": "https://localhost:8080/"
        },
        "outputId": "1c635238-021b-49a4-cf2e-af39b18e241a"
      },
      "outputs": [
        {
          "output_type": "stream",
          "name": "stdout",
          "text": [
            "True\n",
            "False\n",
            "False\n",
            "False\n"
          ]
        }
      ],
      "source": [
        "# and operator\n",
        "\n",
        "print(True and True)   # True\n",
        "print(True and False)  # False\n",
        "print(False and True)  # False\n",
        "print(False and False) # False"
      ]
    },
    {
      "cell_type": "code",
      "execution_count": 15,
      "metadata": {
        "id": "a7LAZBzSqypJ",
        "colab": {
          "base_uri": "https://localhost:8080/"
        },
        "outputId": "0b98b325-24ef-4f86-e9ce-dd081c72e255"
      },
      "outputs": [
        {
          "output_type": "stream",
          "name": "stdout",
          "text": [
            "True\n",
            "True\n",
            "True\n",
            "False\n"
          ]
        }
      ],
      "source": [
        "# or operator\n",
        "\n",
        "print(True or True)   # True\n",
        "print(True or False)  # True\n",
        "print(False or True)  # True\n",
        "print(False or False) # False"
      ]
    },
    {
      "cell_type": "code",
      "execution_count": 16,
      "metadata": {
        "id": "1BQP5hVNqypK",
        "colab": {
          "base_uri": "https://localhost:8080/"
        },
        "outputId": "c084e8e2-a105-49ac-d33f-28fc276d01cc"
      },
      "outputs": [
        {
          "output_type": "stream",
          "name": "stdout",
          "text": [
            "False\n",
            "True\n",
            "True\n"
          ]
        }
      ],
      "source": [
        "# not operator\n",
        "print(not True)  # False\n",
        "print(not False) # True\n",
        "print(not not not not True) # True"
      ]
    },
    {
      "cell_type": "code",
      "execution_count": null,
      "metadata": {
        "collapsed": true,
        "id": "yXkXENr6qypK"
      },
      "outputs": [],
      "source": [
        ""
      ]
    }
  ],
  "metadata": {
    "kernelspec": {
      "display_name": "Python 3",
      "language": "python",
      "name": "python3"
    },
    "language_info": {
      "codemirror_mode": {
        "name": "ipython",
        "version": 3
      },
      "file_extension": ".py",
      "mimetype": "text/x-python",
      "name": "python",
      "nbconvert_exporter": "python",
      "pygments_lexer": "ipython3",
      "version": "3.6.3"
    },
    "colab": {
      "name": "3_Operadores_p.ipynb",
      "provenance": [],
      "collapsed_sections": [],
      "include_colab_link": true
    }
  },
  "nbformat": 4,
  "nbformat_minor": 0
}