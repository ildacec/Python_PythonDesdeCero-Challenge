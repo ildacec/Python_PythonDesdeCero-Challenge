{
  "nbformat": 4,
  "nbformat_minor": 0,
  "metadata": {
    "colab": {
      "provenance": [],
      "authorship_tag": "ABX9TyOIvXJ52l5z+4lNBKWgeVjh",
      "include_colab_link": true
    },
    "kernelspec": {
      "name": "python3",
      "display_name": "Python 3"
    },
    "language_info": {
      "name": "python"
    }
  },
  "cells": [
    {
      "cell_type": "markdown",
      "metadata": {
        "id": "view-in-github",
        "colab_type": "text"
      },
      "source": [
        "<a href=\"https://colab.research.google.com/github/ildacec/Python_PythonDesdeCero-Challenge/blob/main/Ejercicio_10.ipynb\" target=\"_parent\"><img src=\"https://colab.research.google.com/assets/colab-badge.svg\" alt=\"Open In Colab\"/></a>"
      ]
    },
    {
      "cell_type": "markdown",
      "source": [
        "# Python Desde Cero 🐍\n",
        "\n",
        "# Pyladies Panamá 🌻\n",
        "\n",
        "2022\n",
        "\n",
        "Day 8 - PythonDesdeCero Challenge Sábado 8/Octubre/2022\n",
        "\n",
        "---\n"
      ],
      "metadata": {
        "id": "1NBU401X3QM_"
      }
    },
    {
      "cell_type": "markdown",
      "source": [
        "# Ejercicio 10 - Funciones Lambda \n",
        "\n",
        "Dado el siguiente diccionario de 4 elementos, apliquemos las funciones:\n",
        "\n",
        "\n",
        "*   lambda()\n",
        "*   filter()\n",
        "\n"
      ],
      "metadata": {
        "id": "_tfI3hK63gVQ"
      }
    },
    {
      "cell_type": "code",
      "execution_count": 8,
      "metadata": {
        "id": "Ne-9zuwU29MY"
      },
      "outputs": [],
      "source": [
        "superheroes = [\n",
        "    {\n",
        "        \"nombre\": \"Batman\",\n",
        "        \"editorial\": \"DC Comics\",\n",
        "        \"alter_ego\": \"Bruce Wayne\",\n",
        "        \"primera_aparicion\": \"Detective Comics #27\"\n",
        "    },\n",
        "    {\n",
        "        \"nombre\": \"Superman\",\n",
        "        \"editorial\": \"DC Comics\",\n",
        "        \"alter_ego\": \"Kal-El\",\n",
        "        \"primera_aparicion\": \"Action Comics #1\"\n",
        "    },\n",
        "    {\n",
        "        \"nombre\": \"Spider Man\",\n",
        "        \"editorial\": \"Marvel Comics\",\n",
        "        \"alter_ego\": \"Peter Parker\",\n",
        "        \"primera_aparicion\": \"Amazing Fantasy #15\"\n",
        "    },\n",
        "    {\n",
        "        \"nombre\": \"Hulk\",\n",
        "        \"editorial\": \"Marvel Comics\",\n",
        "        \"alter_ego\": \"Bruce Banner\",\n",
        "        \"primera_aparicion\": \"The Incredible Hulk #1\"\n",
        "    }\n",
        "]"
      ]
    },
    {
      "cell_type": "markdown",
      "source": [
        "# Caso 1: Busquemos todos los superheroes de DC."
      ],
      "metadata": {
        "id": "0iP2EuWg37-z"
      }
    },
    {
      "cell_type": "code",
      "source": [
        "superheroesDC = filter(lambda superheroe: superheroe['editorial'] == \"DC Comics\", superheroes)\n",
        "\n",
        "print(tuple(superheroesDC))"
      ],
      "metadata": {
        "colab": {
          "base_uri": "https://localhost:8080/"
        },
        "id": "RWGy8wct4AD1",
        "outputId": "5dd8715b-6ef3-45f7-a6dd-16ef5f19aff1"
      },
      "execution_count": 9,
      "outputs": [
        {
          "output_type": "stream",
          "name": "stdout",
          "text": [
            "({'nombre': 'Batman', 'editorial': 'DC Comics', 'alter_ego': 'Bruce Wayne', 'primera_aparicion': 'Detective Comics #27'}, {'nombre': 'Superman', 'editorial': 'DC Comics', 'alter_ego': 'Kal-El', 'primera_aparicion': 'Action Comics #1'})\n"
          ]
        }
      ]
    },
    {
      "cell_type": "markdown",
      "source": [
        "# Caso 2: Añadir a cada superheroe su poder. Como no quiero entrar en guerras innecesarias le daré un valor aleatorio entre 0 y 99.\n",
        "\n",
        "Tips:  \n",
        "\n",
        "\n",
        "1.   Use una función definida por el usuario para agregar el poder \n",
        "2.   Use la importe la librería random\n"
      ],
      "metadata": {
        "id": "OY2Ow7Wk5Cvw"
      }
    },
    {
      "cell_type": "code",
      "source": [
        "import random\n",
        "\n",
        "def anyadirPoder(superheroe):\n",
        "    superheroe.update(poder=random.randint(0, 100))\n",
        "    return superheroe\n",
        "\n",
        "superheroesPoder = map(anyadirPoder, superheroes)\n",
        "\n",
        "print(tuple(superheroesPoder))"
      ],
      "metadata": {
        "colab": {
          "base_uri": "https://localhost:8080/"
        },
        "id": "5aETi1H35CUj",
        "outputId": "87a0dd89-6944-4d20-9cd0-cd13b9a01b6b"
      },
      "execution_count": 10,
      "outputs": [
        {
          "output_type": "stream",
          "name": "stdout",
          "text": [
            "({'nombre': 'Batman', 'editorial': 'DC Comics', 'alter_ego': 'Bruce Wayne', 'primera_aparicion': 'Detective Comics #27', 'poder': 94}, {'nombre': 'Superman', 'editorial': 'DC Comics', 'alter_ego': 'Kal-El', 'primera_aparicion': 'Action Comics #1', 'poder': 77}, {'nombre': 'Spider Man', 'editorial': 'Marvel Comics', 'alter_ego': 'Peter Parker', 'primera_aparicion': 'Amazing Fantasy #15', 'poder': 10}, {'nombre': 'Hulk', 'editorial': 'Marvel Comics', 'alter_ego': 'Bruce Banner', 'primera_aparicion': 'The Incredible Hulk #1', 'poder': 66})\n"
          ]
        }
      ]
    },
    {
      "cell_type": "markdown",
      "source": [
        "# Caso 3\n",
        "Supongamos que necesitamos contar el números de superheroe que contiene el texto “man” en su nombre.\n",
        "\n",
        "Tips:  \n",
        "\n",
        "\n",
        "1.   Use una función definida por el usuario para validar el nombre \n",
        "2.   Use la importe la librería functools para usar reduce()"
      ],
      "metadata": {
        "id": "gYgQikNM6hGl"
      }
    },
    {
      "cell_type": "code",
      "source": [
        "from functools import reduce\n",
        "\n",
        "def contarMan(resultado, superheroe):\n",
        "    if 'man' in superheroe['nombre'].lower():\n",
        "        return resultado + 1\n",
        "    else:\n",
        "        return resultado\n",
        "\n",
        "total = reduce(contarMan, superheroes, 0)\n",
        "\n",
        "print(total)"
      ],
      "metadata": {
        "colab": {
          "base_uri": "https://localhost:8080/"
        },
        "id": "pELvZksB6hbf",
        "outputId": "07077268-5865-4239-8a2a-86b7f8f180b0"
      },
      "execution_count": 11,
      "outputs": [
        {
          "output_type": "stream",
          "name": "stdout",
          "text": [
            "3\n"
          ]
        }
      ]
    }
  ]
}