{
  "nbformat": 4,
  "nbformat_minor": 0,
  "metadata": {
    "colab": {
      "provenance": [],
      "authorship_tag": "ABX9TyPqW4Bp+qxbWE9xX7/k1FRG",
      "include_colab_link": true
    },
    "kernelspec": {
      "name": "python3",
      "display_name": "Python 3"
    },
    "language_info": {
      "name": "python"
    }
  },
  "cells": [
    {
      "cell_type": "markdown",
      "metadata": {
        "id": "view-in-github",
        "colab_type": "text"
      },
      "source": [
        "<a href=\"https://colab.research.google.com/github/ildacec/Python_PythonDesdeCero-Challenge/blob/main/Ejercicios/Ejercicio_9.ipynb\" target=\"_parent\"><img src=\"https://colab.research.google.com/assets/colab-badge.svg\" alt=\"Open In Colab\"/></a>"
      ]
    },
    {
      "cell_type": "markdown",
      "source": [
        "# Ejercicio\n",
        "Crea una función que tenga un búcle que muestre todos los números pares de los números de la lista en el mismo orden que es recibido, pero que sean menores al número \"412\" (sin incluirlo). Separe e ignore todos los números mayores a 412 en la sentencia. (Note que habra números superiores a 412.)\n"
      ],
      "metadata": {
        "id": "OKks7uAF4m-n"
      }
    },
    {
      "cell_type": "code",
      "execution_count": 16,
      "metadata": {
        "id": "g9KEtigK4dD7"
      },
      "outputs": [],
      "source": [
        "numeros = [\n",
        "    951, 402, 984, 651, 360, 69, 408, 319, 601, 485, 980, 507, 725, 547, 544,\n",
        "    615, 83, 165, 141, 501, 263, 617, 865, 575, 219, 390, 984, 592, 236, 105, 942, 941,\n",
        "    386, 462, 47, 418, 907, 344, 236, 375, 823, 566, 597, 978, 328, 615, 953, 345,\n",
        "    399, 162, 758, 219, 918, 237, 412, 566, 826, 248, 866, 950, 626, 949, 687, 217,\n",
        "    815, 67, 104, 58, 512, 24, 892, 894, 767, 553, 81, 379, 843, 831, 445, 742, 717,\n",
        "    958, 609, 842, 451, 688, 753, 854, 685, 93, 857, 440, 380, 126, 721, 328, 753, 470,\n",
        "    743, 527\n",
        "]"
      ]
    },
    {
      "cell_type": "code",
      "source": [
        "# pares menores 412, for bucle\n",
        "#numeros = numeros.sort()\n",
        "def pares_menores_412(numeros):\n",
        "\n",
        "  for num in numeros:\n",
        "    if num % 2 == 0 and num < 412:\n",
        "      print(num, end = ', ')\n",
        "\n",
        "pares_menores_412(numeros)"
      ],
      "metadata": {
        "colab": {
          "base_uri": "https://localhost:8080/"
        },
        "id": "pdJ0QpFUDYvl",
        "outputId": "962fb45e-6c22-49ac-e634-8da923cb6bda"
      },
      "execution_count": 17,
      "outputs": [
        {
          "output_type": "stream",
          "name": "stdout",
          "text": [
            "402, 360, 408, 390, 236, 386, 344, 236, 328, 162, 248, 104, 58, 24, 380, 126, 328, "
          ]
        }
      ]
    }
  ]
}