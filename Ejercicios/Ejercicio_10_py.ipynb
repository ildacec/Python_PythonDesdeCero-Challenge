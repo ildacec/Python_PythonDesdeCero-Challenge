{
  "nbformat": 4,
  "nbformat_minor": 0,
  "metadata": {
    "colab": {
      "provenance": [],
      "authorship_tag": "ABX9TyMJRFjqAlMZT+0LeV6+3nxC",
      "include_colab_link": true
    },
    "kernelspec": {
      "name": "python3",
      "display_name": "Python 3"
    },
    "language_info": {
      "name": "python"
    }
  },
  "cells": [
    {
      "cell_type": "markdown",
      "metadata": {
        "id": "view-in-github",
        "colab_type": "text"
      },
      "source": [
        "<a href=\"https://colab.research.google.com/github/ildacec/Python_PythonDesdeCero-Challenge/blob/main/Ejercicios/Ejercicio_10_py.ipynb\" target=\"_parent\"><img src=\"https://colab.research.google.com/assets/colab-badge.svg\" alt=\"Open In Colab\"/></a>"
      ]
    },
    {
      "cell_type": "markdown",
      "source": [
        "# Python Desde Cero 🐍\n",
        "\n",
        "# Pyladies Panamá 🌻\n",
        "\n",
        "2022\n",
        "\n",
        "Day 8 - PythonDesdeCero Challenge Sábado 8/Octubre/2022\n",
        "\n",
        "---\n"
      ],
      "metadata": {
        "id": "1NBU401X3QM_"
      }
    },
    {
      "cell_type": "markdown",
      "source": [
        "# Ejercicio 10 - Funciones Lambda \n",
        "\n",
        "Dado el siguiente diccionario de 4 elementos, apliquemos las funciones:\n",
        "\n",
        "\n",
        "*   lambda()\n",
        "*   filter()\n",
        "\n"
      ],
      "metadata": {
        "id": "_tfI3hK63gVQ"
      }
    },
    {
      "cell_type": "code",
      "execution_count": 2,
      "metadata": {
        "id": "Ne-9zuwU29MY"
      },
      "outputs": [],
      "source": [
        "superheroes = [\n",
        "    {\n",
        "        \"nombre\": \"Batman\",\n",
        "        \"editorial\": \"DC Comics\",\n",
        "        \"alter_ego\": \"Bruce Wayne\",\n",
        "        \"primera_aparicion\": \"Detective Comics #27\"\n",
        "    },\n",
        "    {\n",
        "        \"nombre\": \"Superman\",\n",
        "        \"editorial\": \"DC Comics\",\n",
        "        \"alter_ego\": \"Kal-El\",\n",
        "        \"primera_aparicion\": \"Action Comics #1\"\n",
        "    },\n",
        "    {\n",
        "        \"nombre\": \"Spider Man\",\n",
        "        \"editorial\": \"Marvel Comics\",\n",
        "        \"alter_ego\": \"Peter Parker\",\n",
        "        \"primera_aparicion\": \"Amazing Fantasy #15\"\n",
        "    },\n",
        "    {\n",
        "        \"nombre\": \"Hulk\",\n",
        "        \"editorial\": \"Marvel Comics\",\n",
        "        \"alter_ego\": \"Bruce Banner\",\n",
        "        \"primera_aparicion\": \"The Incredible Hulk #1\"\n",
        "    }\n",
        "]"
      ]
    },
    {
      "cell_type": "markdown",
      "source": [
        "# Caso 1: Busquemos todos los superheroes de DC."
      ],
      "metadata": {
        "id": "0iP2EuWg37-z"
      }
    },
    {
      "cell_type": "code",
      "source": [
        "superheroesDC = filter(lambda superheroe: superheroe['editorial'] == \"DC Comics\", superheroes)\n",
        "\n",
        "print(tuple(superheroesDC))"
      ],
      "metadata": {
        "colab": {
          "base_uri": "https://localhost:8080/"
        },
        "id": "RWGy8wct4AD1",
        "outputId": "079fe1f4-4857-4e68-8f3b-2f50fea6ae19"
      },
      "execution_count": 3,
      "outputs": [
        {
          "output_type": "stream",
          "name": "stdout",
          "text": [
            "({'nombre': 'Batman', 'editorial': 'DC Comics', 'alter_ego': 'Bruce Wayne', 'primera_aparicion': 'Detective Comics #27'}, {'nombre': 'Superman', 'editorial': 'DC Comics', 'alter_ego': 'Kal-El', 'primera_aparicion': 'Action Comics #1'})\n"
          ]
        }
      ]
    },
    {
      "cell_type": "markdown",
      "source": [
        "# Caso 2: Añadir a cada superheroe su poder. Como no quiero entrar en guerras innecesarias le daré un valor aleatorio entre 0 y 99.\n",
        "\n",
        "Tips:  \n",
        "\n",
        "\n",
        "1.   Use una función definida por el usuario para agregar el poder \n",
        "2.   Use la importe la librería random\n"
      ],
      "metadata": {
        "id": "OY2Ow7Wk5Cvw"
      }
    },
    {
      "cell_type": "code",
      "source": [
        "import random \n",
        "\n",
        "#poder = random.randint(0,99)\n",
        "#\"poder\" = poder\n",
        "#superheroes\n",
        "\n",
        "def asignarpoder (heroes):\n",
        "  heroes.update(poder = random.randint(0,99))\n",
        "  return heroes\n",
        "\n",
        "superpoder = map(asignarpoder, superheroes)\n",
        "print(list(superpoder))"
      ],
      "metadata": {
        "colab": {
          "base_uri": "https://localhost:8080/"
        },
        "id": "5aETi1H35CUj",
        "outputId": "b0823d56-d436-4ae8-d165-e4a3699fbe8f"
      },
      "execution_count": 7,
      "outputs": [
        {
          "output_type": "stream",
          "name": "stdout",
          "text": [
            "[{'nombre': 'Batman', 'editorial': 'DC Comics', 'alter_ego': 'Bruce Wayne', 'primera_aparicion': 'Detective Comics #27', 'poder': 60}, {'nombre': 'Superman', 'editorial': 'DC Comics', 'alter_ego': 'Kal-El', 'primera_aparicion': 'Action Comics #1', 'poder': 34}, {'nombre': 'Spider Man', 'editorial': 'Marvel Comics', 'alter_ego': 'Peter Parker', 'primera_aparicion': 'Amazing Fantasy #15', 'poder': 67}, {'nombre': 'Hulk', 'editorial': 'Marvel Comics', 'alter_ego': 'Bruce Banner', 'primera_aparicion': 'The Incredible Hulk #1', 'poder': 47}]\n"
          ]
        }
      ]
    },
    {
      "cell_type": "code",
      "source": [
        "import random\n",
        "\n",
        "def Poder(x):\n",
        "  x[\"poder\"] = random.randint(0, 99)\n",
        "  return x\n",
        "\n",
        "list(map(lambda x: Poder(x), superheroes))"
      ],
      "metadata": {
        "colab": {
          "base_uri": "https://localhost:8080/"
        },
        "id": "s_Y-UISxp9yE",
        "outputId": "321d6a79-2061-4c45-c264-ef847b79205e"
      },
      "execution_count": 8,
      "outputs": [
        {
          "output_type": "execute_result",
          "data": {
            "text/plain": [
              "[{'nombre': 'Batman',\n",
              "  'editorial': 'DC Comics',\n",
              "  'alter_ego': 'Bruce Wayne',\n",
              "  'primera_aparicion': 'Detective Comics #27',\n",
              "  'poder': 50},\n",
              " {'nombre': 'Superman',\n",
              "  'editorial': 'DC Comics',\n",
              "  'alter_ego': 'Kal-El',\n",
              "  'primera_aparicion': 'Action Comics #1',\n",
              "  'poder': 3},\n",
              " {'nombre': 'Spider Man',\n",
              "  'editorial': 'Marvel Comics',\n",
              "  'alter_ego': 'Peter Parker',\n",
              "  'primera_aparicion': 'Amazing Fantasy #15',\n",
              "  'poder': 56},\n",
              " {'nombre': 'Hulk',\n",
              "  'editorial': 'Marvel Comics',\n",
              "  'alter_ego': 'Bruce Banner',\n",
              "  'primera_aparicion': 'The Incredible Hulk #1',\n",
              "  'poder': 92}]"
            ]
          },
          "metadata": {},
          "execution_count": 8
        }
      ]
    },
    {
      "cell_type": "markdown",
      "source": [
        "# Caso 3\n",
        "Supongamos que necesitamos contar el números de superheroe que contiene el texto “man” en su nombre.\n",
        "\n",
        "Tips:  \n",
        "\n",
        "\n",
        "1.   Use una función definida por el usuario para validar el nombre \n",
        "2.   Use la importe la librería functools para usar reduce()"
      ],
      "metadata": {
        "id": "gYgQikNM6hGl"
      }
    },
    {
      "cell_type": "code",
      "source": [
        "from functools import reduce\n",
        "\n",
        "def contarMan(resultado, superheroe):\n",
        "    if 'man' in superheroe['nombre'].lower():\n",
        "        return resultado + 1\n",
        "    else:\n",
        "        return resultado\n",
        "\n",
        "total = reduce(contarMan, superheroes, 0)\n",
        "\n",
        "print(total)"
      ],
      "metadata": {
        "colab": {
          "base_uri": "https://localhost:8080/"
        },
        "id": "pELvZksB6hbf",
        "outputId": "7151c367-3583-4e92-cfd9-5a59a5865d2c"
      },
      "execution_count": 15,
      "outputs": [
        {
          "output_type": "stream",
          "name": "stdout",
          "text": [
            "3\n"
          ]
        }
      ]
    }
  ]
}