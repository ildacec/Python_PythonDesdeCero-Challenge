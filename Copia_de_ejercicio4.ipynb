{
  "cells": [
    {
      "cell_type": "markdown",
      "metadata": {
        "id": "view-in-github",
        "colab_type": "text"
      },
      "source": [
        "<a href=\"https://colab.research.google.com/github/ildacec/Python_PythonDesdeCero-Challenge/blob/main/Copia_de_ejercicio4.ipynb\" target=\"_parent\"><img src=\"https://colab.research.google.com/assets/colab-badge.svg\" alt=\"Open In Colab\"/></a>"
      ]
    },
    {
      "cell_type": "markdown",
      "metadata": {
        "id": "W87NUq4njzUV"
      },
      "source": [
        "## Ejercicio No. 2 - Pyladies Panamá\n",
        "\n",
        "Codifica imprima el resultado de la siguiente operación aritmética $\\left(\\frac{15+8}{5\\cdot 2}\\right)^2$."
      ]
    },
    {
      "cell_type": "markdown",
      "metadata": {
        "id": "V33P2K8DjzU0"
      },
      "source": [
        "## Solución"
      ]
    },
    {
      "cell_type": "code",
      "execution_count": 1,
      "metadata": {
        "id": "Fjj9avHxjzU4",
        "outputId": "3ae765f9-18e2-46f4-e9a9-d09e4cc81b36",
        "colab": {
          "base_uri": "https://localhost:8080/"
        }
      },
      "outputs": [
        {
          "output_type": "stream",
          "name": "stdout",
          "text": [
            "5.289999999999999\n"
          ]
        }
      ],
      "source": [
        "print(((15 + 8) / (5 * 2)) ** 2)"
      ]
    }
  ],
  "metadata": {
    "kernelspec": {
      "display_name": "Python 3",
      "language": "python",
      "name": "python3"
    },
    "language_info": {
      "codemirror_mode": {
        "name": "ipython",
        "version": 3
      },
      "file_extension": ".py",
      "mimetype": "text/x-python",
      "name": "python",
      "nbconvert_exporter": "python",
      "pygments_lexer": "ipython3",
      "version": "3.9.1-final"
    },
    "colab": {
      "provenance": [],
      "name": "Copia de ejercicio4.ipynb",
      "include_colab_link": true
    }
  },
  "nbformat": 4,
  "nbformat_minor": 0
}