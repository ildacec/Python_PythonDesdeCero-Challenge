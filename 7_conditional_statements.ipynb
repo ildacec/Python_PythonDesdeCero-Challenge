{
  "cells": [
    {
      "cell_type": "markdown",
      "metadata": {
        "id": "view-in-github",
        "colab_type": "text"
      },
      "source": [
        "<a href=\"https://colab.research.google.com/github/ildacec/Python_PythonDesdeCero-Challenge/blob/main/7_conditional_statements.ipynb\" target=\"_parent\"><img src=\"https://colab.research.google.com/assets/colab-badge.svg\" alt=\"Open In Colab\"/></a>"
      ]
    },
    {
      "cell_type": "markdown",
      "source": [
        "# Python Desde Cero 🐍\n",
        "\n",
        "Pyladies Panamá 🌻\n",
        "\n",
        "2022\n",
        "\n",
        "\n",
        "---\n",
        "\n",
        "Day 1 - PythonDesdeCero Challenge\n",
        "\n",
        "---"
      ],
      "metadata": {
        "id": "T3xmFDELs2iZ"
      }
    },
    {
      "cell_type": "markdown",
      "source": [
        "# Sentencias Condicionales\n",
        "\n",
        "|Condicional | Descripción |\n",
        "| --- | --- |\n",
        "| Uso del if |  |\n",
        "| Uso del else y elif |  |\n",
        "\n"
      ],
      "metadata": {
        "id": "f4Wubu9Atkym"
      }
    },
    {
      "cell_type": "code",
      "source": [
        "#Uso del if\n",
        "a = 4\n",
        "b = 2\n",
        "\n",
        "if b != 0:\n",
        "    print(a/b)"
      ],
      "metadata": {
        "id": "hH6tBQxFtmJu",
        "colab": {
          "base_uri": "https://localhost:8080/"
        },
        "outputId": "5dddcb02-4ab6-4b2d-899f-e3cf6a204a57"
      },
      "execution_count": null,
      "outputs": [
        {
          "output_type": "stream",
          "name": "stdout",
          "text": [
            "2.0\n"
          ]
        }
      ]
    },
    {
      "cell_type": "code",
      "source": [
        "#Identado\n",
        "if b != 0:\n",
        "    c = a/b\n",
        "    d = c + 1\n",
        "    print(d)"
      ],
      "metadata": {
        "id": "atqRXe-St5Vi",
        "colab": {
          "base_uri": "https://localhost:8080/"
        },
        "outputId": "968bb30e-be71-4f40-8361-6438678d686c"
      },
      "execution_count": null,
      "outputs": [
        {
          "output_type": "stream",
          "name": "stdout",
          "text": [
            "3.0\n"
          ]
        }
      ]
    },
    {
      "cell_type": "code",
      "source": [
        "#Validación del identado\n",
        "if b != 0:\n",
        "    c = a/b\n",
        "    print(\"Dentro if\")\n",
        "print(\"Fuera if\")"
      ],
      "metadata": {
        "id": "xTQCgrHnuC7u",
        "colab": {
          "base_uri": "https://localhost:8080/"
        },
        "outputId": "db60ecbc-49c5-4e65-d6e9-b9af265e61cb"
      },
      "execution_count": null,
      "outputs": [
        {
          "output_type": "stream",
          "name": "stdout",
          "text": [
            "Dentro if\n",
            "Fuera if\n"
          ]
        }
      ]
    },
    {
      "cell_type": "code",
      "source": [
        "a = 10\n",
        "if a > 5 and a < 15:\n",
        "    print(\"Mayor que 5 y menos que 15\")"
      ],
      "metadata": {
        "id": "-lR-sehfuOiu",
        "colab": {
          "base_uri": "https://localhost:8080/"
        },
        "outputId": "f7452535-4dbc-4d8f-9e6d-17a1e79b1e2c"
      },
      "execution_count": null,
      "outputs": [
        {
          "output_type": "stream",
          "name": "stdout",
          "text": [
            "Mayor que 5 y menos que 15\n"
          ]
        }
      ]
    },
    {
      "cell_type": "markdown",
      "metadata": {
        "id": "Gjr2QCDPrbza"
      },
      "source": [
        "# Problema 1 : Imprimir \"Par\" si el número es divisible por 2, o imprimir \"Impar\" si no lo es"
      ]
    },
    {
      "cell_type": "code",
      "execution_count": null,
      "metadata": {
        "id": "Xyg2S-K8rbzc",
        "colab": {
          "base_uri": "https://localhost:8080/"
        },
        "outputId": "2a91c331-7584-421b-a1aa-f6798de1eeaf"
      },
      "outputs": [
        {
          "output_type": "stream",
          "name": "stdout",
          "text": [
            "Par\n"
          ]
        }
      ],
      "source": [
        "x = 4\n",
        "\n",
        "if(x % 2 == 0):\n",
        "    print(\"Par\")\n",
        "else:\n",
        "    print(\"Impart\")"
      ]
    },
    {
      "cell_type": "markdown",
      "source": [
        "# Uso de else "
      ],
      "metadata": {
        "id": "eRjn986PuYYY"
      }
    },
    {
      "cell_type": "code",
      "source": [
        "# if / else\n",
        "x = 5\n",
        "if x == 5:\n",
        "    print(\"Es 5\")\n",
        "else:\n",
        "    print(\"No es 5\")"
      ],
      "metadata": {
        "id": "0Ah5rktiuX6S",
        "colab": {
          "base_uri": "https://localhost:8080/"
        },
        "outputId": "fb8d4052-18e1-45be-f190-972a863b1b12"
      },
      "execution_count": null,
      "outputs": [
        {
          "output_type": "stream",
          "name": "stdout",
          "text": [
            "Es 5\n"
          ]
        }
      ]
    },
    {
      "cell_type": "code",
      "source": [
        "# Uso de elif\n",
        "x = 7\n",
        "if x == 5:\n",
        "    print(\"Es 5\")\n",
        "elif x == 6:\n",
        "    print(\"Es 6\")\n",
        "elif x == 7:\n",
        "    print(\"Es 7\")"
      ],
      "metadata": {
        "id": "ORJ1RiBQvKZK",
        "colab": {
          "base_uri": "https://localhost:8080/"
        },
        "outputId": "4e5d1a82-213f-431b-84a6-d4e13c22cdd5"
      },
      "execution_count": null,
      "outputs": [
        {
          "output_type": "stream",
          "name": "stdout",
          "text": [
            "Es 7\n"
          ]
        }
      ]
    },
    {
      "cell_type": "markdown",
      "metadata": {
        "id": "w9O1eBmOrbzd"
      },
      "source": [
        "# Problema 2: Tome una variable y e imprima \"Grado A\" si y es mayor que 90, \"Grado B\" si y es mayor que 60 pero menor o igual a 90 y \"Grado F\" en caso contrario."
      ]
    },
    {
      "cell_type": "code",
      "execution_count": null,
      "metadata": {
        "id": "cWNBFoI2rbzd",
        "colab": {
          "base_uri": "https://localhost:8080/"
        },
        "outputId": "04ef8f5d-d4db-4d69-be8c-d96325c2da36"
      },
      "outputs": [
        {
          "output_type": "stream",
          "name": "stdout",
          "text": [
            "Grade B\n"
          ]
        }
      ],
      "source": [
        "y=90\n",
        "\n",
        "if(y>90):\n",
        "    print(\"Grade A\")\n",
        "elif(y>60):\n",
        "    print(\"Grade B\")\n",
        "else:\n",
        "    print(\"Grade F\")"
      ]
    },
    {
      "cell_type": "code",
      "execution_count": null,
      "metadata": {
        "collapsed": true,
        "id": "BIJI3l3Mrbze"
      },
      "outputs": [],
      "source": []
    }
  ],
  "metadata": {
    "kernelspec": {
      "display_name": "Python [default]",
      "language": "python",
      "name": "python3"
    },
    "language_info": {
      "codemirror_mode": {
        "name": "ipython",
        "version": 3
      },
      "file_extension": ".py",
      "mimetype": "text/x-python",
      "name": "python",
      "nbconvert_exporter": "python",
      "pygments_lexer": "ipython3",
      "version": "3.5.4"
    },
    "colab": {
      "provenance": [],
      "include_colab_link": true
    }
  },
  "nbformat": 4,
  "nbformat_minor": 0
}